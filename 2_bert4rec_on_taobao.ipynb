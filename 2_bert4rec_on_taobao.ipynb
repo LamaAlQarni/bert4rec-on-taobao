{
  "cells": [
    {
      "cell_type": "markdown",
      "metadata": {
        "id": "view-in-github",
        "colab_type": "text"
      },
      "source": [
        "<a href=\"https://colab.research.google.com/github/LamaAlQarni/bert4rec_on_taobao/blob/main/2_bert4rec_on_taobao.ipynb\" target=\"_parent\"><img src=\"https://colab.research.google.com/assets/colab-badge.svg\" alt=\"Open In Colab\"/></a>"
      ]
    },
    {
      "cell_type": "code",
      "execution_count": 1,
      "metadata": {
        "colab": {
          "base_uri": "https://localhost:8080/"
        },
        "id": "bl88crrOM66e",
        "outputId": "cf38eadb-8c0a-40d9-b9de-fabc98b7d910"
      },
      "outputs": [
        {
          "output_type": "stream",
          "name": "stdout",
          "text": [
            "Cloning into 'bert4rec_on_taobao'...\n",
            "remote: Enumerating objects: 128, done.\u001b[K\n",
            "remote: Counting objects: 100% (128/128), done.\u001b[K\n",
            "remote: Compressing objects: 100% (121/121), done.\u001b[K\n",
            "remote: Total 128 (delta 68), reused 12 (delta 1), pack-reused 0 (from 0)\u001b[K\n",
            "Receiving objects: 100% (128/128), 3.77 MiB | 4.56 MiB/s, done.\n",
            "Resolving deltas: 100% (68/68), done.\n"
          ]
        }
      ],
      "source": [
        "!git clone https://github.com/LamaAlQarni/bert4rec_on_taobao.git"
      ]
    },
    {
      "cell_type": "code",
      "execution_count": 2,
      "metadata": {
        "id": "mzRAGmBvN89N"
      },
      "outputs": [],
      "source": [
        "from bert4rec_on_taobao import TaoBaoDataset,BERT4Rec,train,get_device,calculate_metrics_batch"
      ]
    },
    {
      "cell_type": "code",
      "execution_count": 3,
      "metadata": {
        "colab": {
          "base_uri": "https://localhost:8080/"
        },
        "id": "Xj7mUHyZOftg",
        "outputId": "c669605b-9880-44ce-f01d-4d36a4f5a480"
      },
      "outputs": [
        {
          "output_type": "stream",
          "name": "stdout",
          "text": [
            "Reading Data: "
          ]
        },
        {
          "output_type": "stream",
          "name": "stderr",
          "text": [
            "/content/bert4rec_on_taobao/src/dataset.py:33: DtypeWarning: Columns (0,1,2,4) have mixed types. Specify dtype option on import or set low_memory=False.\n",
            "  self.df=pd.read_csv(taobao_file,header=None,names=column_names)\n"
          ]
        },
        {
          "output_type": "stream",
          "name": "stdout",
          "text": [
            "Done!\n",
            "Mapping items to index: Done!\n",
            "Build User Sequence: Done!\n",
            "Calculate item popularity: Done!\n"
          ]
        },
        {
          "output_type": "stream",
          "name": "stderr",
          "text": [
            "100%|██████████| 16471/16471 [06:16<00:00, 43.71it/s]\n"
          ]
        }
      ],
      "source": [
        "data_dir = 'bert4rec_on_taobao/data'\n",
        "train_dataset = TaoBaoDataset(data_dir, max_len=20, split='train')\n",
        "val_dataset = TaoBaoDataset(data_dir, max_len=20, split='val')\n",
        "test_dataset = TaoBaoDataset(data_dir, max_len=20, split='test')"
      ]
    },
    {
      "cell_type": "code",
      "execution_count": 4,
      "metadata": {
        "colab": {
          "base_uri": "https://localhost:8080/"
        },
        "id": "FLYWYjbqVcnm",
        "outputId": "1e1df16c-5c49-48a9-d9cf-844b03aada60"
      },
      "outputs": [
        {
          "output_type": "stream",
          "name": "stdout",
          "text": [
            "16470\n",
            "16470\n",
            "16470\n",
            "154971\n",
            "154972\n"
          ]
        }
      ],
      "source": [
        "print(len(train_dataset))\n",
        "print(len(val_dataset)) #because of the leave-one-out method\n",
        "print(len(test_dataset))\n",
        "print(train_dataset.num_items)\n",
        "print(train_dataset.mask_token)"
      ]
    },
    {
      "cell_type": "code",
      "execution_count": 8,
      "metadata": {
        "id": "cpDxA2u4V9NZ"
      },
      "outputs": [],
      "source": [
        "class Config:\n",
        "    #data_dir = os.path.join('data')\n",
        "    model_save_dir = 'saved_models'\n",
        "\n",
        "    # model hyperparameter\n",
        "    max_len = 20\n",
        "    hidden_units = 64\n",
        "    num_heads = 8\n",
        "    num_layers = 2\n",
        "    dropout = 0.1\n",
        "\n",
        "    # training parameters\n",
        "    batch_size = 64\n",
        "    learning_rate = 0.001\n",
        "    num_epochs = 50\n",
        "    eval_step = 1000\n",
        "    patience = 5\n",
        "    k_values = [1, 5, 10]\n",
        "\n",
        "config = Config()"
      ]
    },
    {
      "cell_type": "code",
      "execution_count": 9,
      "metadata": {
        "id": "HZBVVfosTUsz"
      },
      "outputs": [],
      "source": [
        "model = BERT4Rec(\n",
        "        item_num=train_dataset.num_items,\n",
        "        max_len=config.max_len,\n",
        "        hidden_units=config.hidden_units,\n",
        "        num_heads=config.num_heads,\n",
        "        num_layers=config.num_layers,\n",
        "        dropout=config.dropout\n",
        "    )"
      ]
    },
    {
      "cell_type": "code",
      "execution_count": 10,
      "metadata": {
        "colab": {
          "base_uri": "https://localhost:8080/"
        },
        "id": "MaSYyjysXabg",
        "outputId": "614b68b2-547a-40a3-e421-01c120301775"
      },
      "outputs": [
        {
          "output_type": "stream",
          "name": "stdout",
          "text": [
            "You are on cuda\n"
          ]
        },
        {
          "output_type": "stream",
          "name": "stderr",
          "text": [
            "Epoch 1/50: 100%|██████████| 258/258 [00:17<00:00, 14.60it/s]\n"
          ]
        },
        {
          "output_type": "stream",
          "name": "stdout",
          "text": [
            "Epoch 1 completed in 17.68 seconds\n"
          ]
        },
        {
          "output_type": "stream",
          "name": "stderr",
          "text": [
            "Epoch 2/50: 100%|██████████| 258/258 [00:17<00:00, 14.59it/s]\n"
          ]
        },
        {
          "output_type": "stream",
          "name": "stdout",
          "text": [
            "Epoch 2 completed in 17.69 seconds\n"
          ]
        },
        {
          "output_type": "stream",
          "name": "stderr",
          "text": [
            "Epoch 3/50: 100%|██████████| 258/258 [00:17<00:00, 14.65it/s]\n"
          ]
        },
        {
          "output_type": "stream",
          "name": "stdout",
          "text": [
            "Epoch 3 completed in 17.61 seconds\n"
          ]
        },
        {
          "output_type": "stream",
          "name": "stderr",
          "text": [
            "Epoch 4/50:  87%|████████▋ | 224/258 [00:15<00:02, 14.85it/s]"
          ]
        },
        {
          "output_type": "stream",
          "name": "stdout",
          "text": [
            "\n",
            "Step 1000, Average Loss: 2.6876\n"
          ]
        },
        {
          "output_type": "stream",
          "name": "stderr",
          "text": [
            "\n",
            "  0%|          | 0/258 [00:00<?, ?it/s]\u001b[A\n",
            "  2%|▏         | 5/258 [00:00<00:05, 45.04it/s]\u001b[A\n",
            "  4%|▍         | 10/258 [00:00<00:05, 42.26it/s]\u001b[A\n",
            "  6%|▌         | 15/258 [00:00<00:06, 37.49it/s]\u001b[A\n",
            "  7%|▋         | 19/258 [00:00<00:06, 35.82it/s]\u001b[A\n",
            "  9%|▉         | 23/258 [00:00<00:06, 35.51it/s]\u001b[A\n",
            " 10%|█         | 27/258 [00:00<00:06, 34.91it/s]\u001b[A\n",
            " 12%|█▏        | 31/258 [00:00<00:06, 35.72it/s]\u001b[A\n",
            " 14%|█▎        | 35/258 [00:00<00:06, 35.65it/s]\u001b[A\n",
            " 15%|█▌        | 39/258 [00:01<00:06, 35.37it/s]\u001b[A\n",
            " 17%|█▋        | 43/258 [00:01<00:06, 34.92it/s]\u001b[A\n",
            " 18%|█▊        | 47/258 [00:01<00:06, 33.92it/s]\u001b[A\n",
            " 20%|█▉        | 51/258 [00:01<00:05, 35.14it/s]\u001b[A\n",
            " 21%|██▏       | 55/258 [00:01<00:05, 35.82it/s]\u001b[A\n",
            " 23%|██▎       | 59/258 [00:01<00:05, 33.78it/s]\u001b[A\n",
            " 24%|██▍       | 63/258 [00:01<00:05, 33.16it/s]\u001b[A\n",
            " 26%|██▌       | 67/258 [00:01<00:05, 32.00it/s]\u001b[A\n",
            " 28%|██▊       | 71/258 [00:02<00:05, 31.77it/s]\u001b[A\n",
            " 29%|██▉       | 75/258 [00:02<00:05, 31.30it/s]\u001b[A\n",
            " 31%|███       | 79/258 [00:02<00:05, 30.44it/s]\u001b[A\n",
            " 32%|███▏      | 83/258 [00:02<00:05, 31.06it/s]\u001b[A\n",
            " 34%|███▎      | 87/258 [00:02<00:05, 31.00it/s]\u001b[A\n",
            " 35%|███▌      | 91/258 [00:02<00:05, 30.73it/s]\u001b[A\n",
            " 37%|███▋      | 96/258 [00:02<00:04, 33.76it/s]\u001b[A\n",
            " 39%|███▉      | 101/258 [00:02<00:04, 36.93it/s]\u001b[A\n",
            " 41%|████      | 106/258 [00:03<00:03, 39.27it/s]\u001b[A\n",
            " 43%|████▎     | 111/258 [00:03<00:03, 39.72it/s]\u001b[A\n",
            " 45%|████▍     | 116/258 [00:03<00:03, 40.24it/s]\u001b[A\n",
            " 47%|████▋     | 121/258 [00:03<00:03, 41.54it/s]\u001b[A\n",
            " 49%|████▉     | 126/258 [00:03<00:03, 42.88it/s]\u001b[A\n",
            " 51%|█████     | 131/258 [00:03<00:02, 43.34it/s]\u001b[A\n",
            " 53%|█████▎    | 136/258 [00:03<00:02, 43.77it/s]\u001b[A\n",
            " 55%|█████▍    | 141/258 [00:03<00:02, 43.67it/s]\u001b[A\n",
            " 57%|█████▋    | 146/258 [00:03<00:02, 44.32it/s]\u001b[A\n",
            " 59%|█████▊    | 151/258 [00:04<00:02, 44.09it/s]\u001b[A\n",
            " 60%|██████    | 156/258 [00:04<00:02, 42.93it/s]\u001b[A\n",
            " 62%|██████▏   | 161/258 [00:04<00:02, 42.89it/s]\u001b[A\n",
            " 64%|██████▍   | 166/258 [00:04<00:02, 43.92it/s]\u001b[A\n",
            " 66%|██████▋   | 171/258 [00:04<00:02, 42.85it/s]\u001b[A\n",
            " 68%|██████▊   | 176/258 [00:04<00:01, 41.72it/s]\u001b[A\n",
            " 70%|███████   | 181/258 [00:04<00:01, 40.46it/s]\u001b[A\n",
            " 72%|███████▏  | 186/258 [00:04<00:01, 38.63it/s]\u001b[A\n",
            " 74%|███████▎  | 190/258 [00:05<00:01, 38.96it/s]\u001b[A\n",
            " 76%|███████▌  | 195/258 [00:05<00:01, 39.32it/s]\u001b[A\n",
            " 78%|███████▊  | 200/258 [00:05<00:01, 39.88it/s]\u001b[A\n",
            " 79%|███████▉  | 205/258 [00:05<00:01, 41.41it/s]\u001b[A\n",
            " 81%|████████▏ | 210/258 [00:05<00:01, 42.59it/s]\u001b[A\n",
            " 83%|████████▎ | 215/258 [00:05<00:00, 43.57it/s]\u001b[A\n",
            " 85%|████████▌ | 220/258 [00:05<00:00, 44.22it/s]\u001b[A\n",
            " 87%|████████▋ | 225/258 [00:05<00:00, 44.08it/s]\u001b[A\n",
            " 89%|████████▉ | 230/258 [00:05<00:00, 44.28it/s]\u001b[A\n",
            " 91%|█████████ | 235/258 [00:06<00:00, 44.09it/s]\u001b[A\n",
            " 93%|█████████▎| 240/258 [00:06<00:00, 42.99it/s]\u001b[A\n",
            " 95%|█████████▍| 245/258 [00:06<00:00, 42.45it/s]\u001b[A\n",
            " 97%|█████████▋| 250/258 [00:06<00:00, 43.37it/s]\u001b[A\n",
            "100%|██████████| 258/258 [00:06<00:00, 39.14it/s]\n"
          ]
        },
        {
          "output_type": "stream",
          "name": "stdout",
          "text": [
            "Evaluation Results:\n",
            "HR@1: 0.0074, NDCG@1: 0.0074\n",
            "HR@5: 0.0316, NDCG@5: 0.0193\n",
            "HR@10: 0.0580, NDCG@10: 0.0277\n"
          ]
        },
        {
          "output_type": "stream",
          "name": "stderr",
          "text": [
            "Epoch 4/50:  88%|████████▊ | 228/258 [00:22<00:23,  1.27it/s]"
          ]
        },
        {
          "output_type": "stream",
          "name": "stdout",
          "text": [
            "New best model saved!\n"
          ]
        },
        {
          "output_type": "stream",
          "name": "stderr",
          "text": [
            "Epoch 4/50: 100%|██████████| 258/258 [00:24<00:00, 10.61it/s]\n"
          ]
        },
        {
          "output_type": "stream",
          "name": "stdout",
          "text": [
            "Epoch 4 completed in 24.33 seconds\n"
          ]
        },
        {
          "output_type": "stream",
          "name": "stderr",
          "text": [
            "Epoch 5/50: 100%|██████████| 258/258 [00:17<00:00, 14.75it/s]\n"
          ]
        },
        {
          "output_type": "stream",
          "name": "stdout",
          "text": [
            "Epoch 5 completed in 17.50 seconds\n"
          ]
        },
        {
          "output_type": "stream",
          "name": "stderr",
          "text": [
            "Epoch 6/50: 100%|██████████| 258/258 [00:17<00:00, 14.74it/s]\n"
          ]
        },
        {
          "output_type": "stream",
          "name": "stdout",
          "text": [
            "Epoch 6 completed in 17.52 seconds\n"
          ]
        },
        {
          "output_type": "stream",
          "name": "stderr",
          "text": [
            "Epoch 7/50: 100%|██████████| 258/258 [00:17<00:00, 14.74it/s]\n"
          ]
        },
        {
          "output_type": "stream",
          "name": "stdout",
          "text": [
            "Epoch 7 completed in 17.52 seconds\n"
          ]
        },
        {
          "output_type": "stream",
          "name": "stderr",
          "text": [
            "Epoch 8/50:  74%|███████▍  | 192/258 [00:13<00:04, 14.63it/s]"
          ]
        },
        {
          "output_type": "stream",
          "name": "stdout",
          "text": [
            "\n",
            "Step 2000, Average Loss: 2.2677\n"
          ]
        },
        {
          "output_type": "stream",
          "name": "stderr",
          "text": [
            "\n",
            "  0%|          | 0/258 [00:00<?, ?it/s]\u001b[A\n",
            "  2%|▏         | 4/258 [00:00<00:06, 37.31it/s]\u001b[A\n",
            "  3%|▎         | 8/258 [00:00<00:06, 36.10it/s]\u001b[A\n",
            "  5%|▍         | 12/258 [00:00<00:07, 34.75it/s]\u001b[A\n",
            "  6%|▌         | 16/258 [00:00<00:07, 33.50it/s]\u001b[A\n",
            "  8%|▊         | 20/258 [00:00<00:07, 32.54it/s]\u001b[A\n",
            "  9%|▉         | 24/258 [00:00<00:06, 33.62it/s]\u001b[A\n",
            " 11%|█         | 28/258 [00:00<00:06, 34.48it/s]\u001b[A\n",
            " 12%|█▏        | 32/258 [00:00<00:06, 35.35it/s]\u001b[A\n",
            " 14%|█▍        | 36/258 [00:01<00:06, 35.75it/s]\u001b[A\n",
            " 16%|█▌        | 40/258 [00:01<00:06, 33.79it/s]\u001b[A\n",
            " 17%|█▋        | 44/258 [00:01<00:06, 33.71it/s]\u001b[A\n",
            " 19%|█▊        | 48/258 [00:01<00:06, 34.43it/s]\u001b[A\n",
            " 20%|██        | 52/258 [00:01<00:06, 31.75it/s]\u001b[A\n",
            " 22%|██▏       | 56/258 [00:01<00:06, 31.89it/s]\u001b[A\n",
            " 23%|██▎       | 60/258 [00:01<00:06, 32.06it/s]\u001b[A\n",
            " 25%|██▍       | 64/258 [00:01<00:06, 32.20it/s]\u001b[A\n",
            " 26%|██▋       | 68/258 [00:02<00:06, 31.62it/s]\u001b[A\n",
            " 28%|██▊       | 72/258 [00:02<00:05, 31.05it/s]\u001b[A\n",
            " 30%|██▉       | 77/258 [00:02<00:05, 34.61it/s]\u001b[A\n",
            " 32%|███▏      | 82/258 [00:02<00:04, 37.22it/s]\u001b[A\n",
            " 33%|███▎      | 86/258 [00:02<00:04, 37.19it/s]\u001b[A\n",
            " 35%|███▌      | 91/258 [00:02<00:04, 39.01it/s]\u001b[A\n",
            " 37%|███▋      | 96/258 [00:02<00:03, 40.92it/s]\u001b[A\n",
            " 39%|███▉      | 101/258 [00:02<00:03, 42.33it/s]\u001b[A\n",
            " 41%|████      | 106/258 [00:02<00:03, 42.57it/s]\u001b[A\n",
            " 43%|████▎     | 111/258 [00:03<00:03, 42.76it/s]\u001b[A\n",
            " 45%|████▍     | 116/258 [00:03<00:03, 41.54it/s]\u001b[A\n",
            " 47%|████▋     | 121/258 [00:03<00:03, 42.06it/s]\u001b[A\n",
            " 49%|████▉     | 126/258 [00:03<00:03, 42.20it/s]\u001b[A\n",
            " 51%|█████     | 131/258 [00:03<00:03, 41.76it/s]\u001b[A\n",
            " 53%|█████▎    | 136/258 [00:03<00:02, 42.32it/s]\u001b[A\n",
            " 55%|█████▍    | 141/258 [00:03<00:02, 43.29it/s]\u001b[A\n",
            " 57%|█████▋    | 146/258 [00:03<00:02, 43.47it/s]\u001b[A\n",
            " 59%|█████▊    | 151/258 [00:04<00:02, 43.99it/s]\u001b[A\n",
            " 60%|██████    | 156/258 [00:04<00:02, 44.24it/s]\u001b[A\n",
            " 62%|██████▏   | 161/258 [00:04<00:02, 43.59it/s]\u001b[A\n",
            " 64%|██████▍   | 166/258 [00:04<00:02, 44.30it/s]\u001b[A\n",
            " 66%|██████▋   | 171/258 [00:04<00:02, 42.84it/s]\u001b[A\n",
            " 68%|██████▊   | 176/258 [00:04<00:01, 42.42it/s]\u001b[A\n",
            " 70%|███████   | 181/258 [00:04<00:01, 43.16it/s]\u001b[A\n",
            " 72%|███████▏  | 186/258 [00:04<00:01, 43.28it/s]\u001b[A\n",
            " 74%|███████▍  | 191/258 [00:04<00:01, 43.95it/s]\u001b[A\n",
            " 76%|███████▌  | 196/258 [00:05<00:01, 44.77it/s]\u001b[A\n",
            " 78%|███████▊  | 201/258 [00:05<00:01, 44.01it/s]\u001b[A\n",
            " 80%|███████▉  | 206/258 [00:05<00:01, 43.90it/s]\u001b[A\n",
            " 82%|████████▏ | 211/258 [00:05<00:01, 44.09it/s]\u001b[A\n",
            " 84%|████████▎ | 216/258 [00:05<00:00, 42.13it/s]\u001b[A\n",
            " 86%|████████▌ | 221/258 [00:05<00:00, 42.93it/s]\u001b[A\n",
            " 88%|████████▊ | 226/258 [00:05<00:00, 43.64it/s]\u001b[A\n",
            " 90%|████████▉ | 231/258 [00:05<00:00, 43.56it/s]\u001b[A\n",
            " 91%|█████████▏| 236/258 [00:05<00:00, 43.98it/s]\u001b[A\n",
            " 93%|█████████▎| 241/258 [00:06<00:00, 44.03it/s]\u001b[A\n",
            " 95%|█████████▌| 246/258 [00:06<00:00, 44.29it/s]\u001b[A\n",
            " 97%|█████████▋| 251/258 [00:06<00:00, 43.65it/s]\u001b[A\n",
            "100%|██████████| 258/258 [00:06<00:00, 39.88it/s]\n",
            "Epoch 8/50:  76%|███████▌  | 196/258 [00:19<00:46,  1.33it/s]"
          ]
        },
        {
          "output_type": "stream",
          "name": "stdout",
          "text": [
            "Evaluation Results:\n",
            "HR@1: 0.0071, NDCG@1: 0.0071\n",
            "HR@5: 0.0328, NDCG@5: 0.0199\n",
            "HR@10: 0.0588, NDCG@10: 0.0282\n"
          ]
        },
        {
          "output_type": "stream",
          "name": "stderr",
          "text": [
            "Epoch 8/50: 100%|██████████| 258/258 [00:23<00:00, 10.76it/s]\n"
          ]
        },
        {
          "output_type": "stream",
          "name": "stdout",
          "text": [
            "Epoch 8 completed in 23.99 seconds\n"
          ]
        },
        {
          "output_type": "stream",
          "name": "stderr",
          "text": [
            "Epoch 9/50: 100%|██████████| 258/258 [00:17<00:00, 14.69it/s]\n"
          ]
        },
        {
          "output_type": "stream",
          "name": "stdout",
          "text": [
            "Epoch 9 completed in 17.57 seconds\n"
          ]
        },
        {
          "output_type": "stream",
          "name": "stderr",
          "text": [
            "Epoch 10/50: 100%|██████████| 258/258 [00:17<00:00, 14.72it/s]\n"
          ]
        },
        {
          "output_type": "stream",
          "name": "stdout",
          "text": [
            "Epoch 10 completed in 17.53 seconds\n"
          ]
        },
        {
          "output_type": "stream",
          "name": "stderr",
          "text": [
            "Epoch 11/50: 100%|██████████| 258/258 [00:17<00:00, 14.67it/s]\n"
          ]
        },
        {
          "output_type": "stream",
          "name": "stdout",
          "text": [
            "Epoch 11 completed in 17.59 seconds\n"
          ]
        },
        {
          "output_type": "stream",
          "name": "stderr",
          "text": [
            "Epoch 12/50:  62%|██████▏   | 160/258 [00:10<00:06, 14.32it/s]"
          ]
        },
        {
          "output_type": "stream",
          "name": "stdout",
          "text": [
            "\n",
            "Step 3000, Average Loss: 1.8168\n"
          ]
        },
        {
          "output_type": "stream",
          "name": "stderr",
          "text": [
            "\n",
            "  0%|          | 0/258 [00:00<?, ?it/s]\u001b[A\n",
            "  2%|▏         | 4/258 [00:00<00:06, 37.21it/s]\u001b[A\n",
            "  3%|▎         | 8/258 [00:00<00:06, 36.30it/s]\u001b[A\n",
            "  5%|▍         | 12/258 [00:00<00:06, 36.55it/s]\u001b[A\n",
            "  6%|▌         | 16/258 [00:00<00:06, 36.92it/s]\u001b[A\n",
            "  8%|▊         | 20/258 [00:00<00:06, 36.39it/s]\u001b[A\n",
            "  9%|▉         | 24/258 [00:00<00:06, 33.62it/s]\u001b[A\n",
            " 11%|█         | 28/258 [00:00<00:06, 33.48it/s]\u001b[A\n",
            " 12%|█▏        | 32/258 [00:00<00:06, 33.47it/s]\u001b[A\n",
            " 14%|█▍        | 36/258 [00:01<00:07, 30.71it/s]\u001b[A\n",
            " 16%|█▌        | 40/258 [00:01<00:06, 31.17it/s]\u001b[A\n",
            " 17%|█▋        | 44/258 [00:01<00:06, 31.99it/s]\u001b[A\n",
            " 19%|█▊        | 48/258 [00:01<00:06, 32.69it/s]\u001b[A\n",
            " 20%|██        | 52/258 [00:01<00:06, 32.42it/s]\u001b[A\n",
            " 22%|██▏       | 56/258 [00:01<00:06, 32.26it/s]\u001b[A\n",
            " 23%|██▎       | 60/258 [00:01<00:05, 33.97it/s]\u001b[A\n",
            " 25%|██▌       | 65/258 [00:01<00:05, 37.57it/s]\u001b[A\n",
            " 27%|██▋       | 69/258 [00:02<00:04, 37.82it/s]\u001b[A\n",
            " 29%|██▊       | 74/258 [00:02<00:04, 39.14it/s]\u001b[A\n",
            " 31%|███       | 79/258 [00:02<00:04, 41.52it/s]\u001b[A\n",
            " 33%|███▎      | 84/258 [00:02<00:04, 43.11it/s]\u001b[A\n",
            " 34%|███▍      | 89/258 [00:02<00:03, 43.86it/s]\u001b[A\n",
            " 36%|███▋      | 94/258 [00:02<00:03, 44.69it/s]\u001b[A\n",
            " 38%|███▊      | 99/258 [00:02<00:03, 45.38it/s]\u001b[A\n",
            " 40%|████      | 104/258 [00:02<00:03, 44.14it/s]\u001b[A\n",
            " 42%|████▏     | 109/258 [00:02<00:03, 44.84it/s]\u001b[A\n",
            " 44%|████▍     | 114/258 [00:03<00:03, 42.84it/s]\u001b[A\n",
            " 46%|████▌     | 119/258 [00:03<00:03, 43.53it/s]\u001b[A\n",
            " 48%|████▊     | 124/258 [00:03<00:03, 44.36it/s]\u001b[A\n",
            " 50%|█████     | 129/258 [00:03<00:02, 45.20it/s]\u001b[A\n",
            " 52%|█████▏    | 134/258 [00:03<00:02, 45.16it/s]\u001b[A\n",
            " 54%|█████▍    | 139/258 [00:03<00:02, 45.14it/s]\u001b[A\n",
            " 56%|█████▌    | 144/258 [00:03<00:02, 44.30it/s]\u001b[A\n",
            " 58%|█████▊    | 149/258 [00:03<00:02, 43.82it/s]\u001b[A\n",
            " 60%|█████▉    | 154/258 [00:03<00:02, 44.47it/s]\u001b[A\n",
            " 62%|██████▏   | 159/258 [00:04<00:02, 42.43it/s]\u001b[A\n",
            " 64%|██████▎   | 164/258 [00:04<00:02, 42.91it/s]\u001b[A\n",
            " 66%|██████▌   | 169/258 [00:04<00:02, 43.77it/s]\u001b[A\n",
            " 67%|██████▋   | 174/258 [00:04<00:01, 44.57it/s]\u001b[A\n",
            " 69%|██████▉   | 179/258 [00:04<00:01, 44.70it/s]\u001b[A\n",
            " 71%|███████▏  | 184/258 [00:04<00:01, 44.76it/s]\u001b[A\n",
            " 73%|███████▎  | 189/258 [00:04<00:01, 44.53it/s]\u001b[A\n",
            " 75%|███████▌  | 194/258 [00:04<00:01, 43.66it/s]\u001b[A\n",
            " 77%|███████▋  | 199/258 [00:04<00:01, 43.47it/s]\u001b[A\n",
            " 79%|███████▉  | 204/258 [00:05<00:01, 42.10it/s]\u001b[A\n",
            " 81%|████████  | 209/258 [00:05<00:01, 43.41it/s]\u001b[A\n",
            " 83%|████████▎ | 214/258 [00:05<00:00, 44.36it/s]\u001b[A\n",
            " 85%|████████▍ | 219/258 [00:05<00:00, 44.79it/s]\u001b[A\n",
            " 87%|████████▋ | 224/258 [00:05<00:00, 44.92it/s]\u001b[A\n",
            " 89%|████████▉ | 229/258 [00:05<00:00, 44.90it/s]\u001b[A\n",
            " 91%|█████████ | 234/258 [00:05<00:00, 45.56it/s]\u001b[A\n",
            " 93%|█████████▎| 239/258 [00:05<00:00, 44.28it/s]\u001b[A\n",
            " 95%|█████████▍| 244/258 [00:05<00:00, 43.31it/s]\u001b[A\n",
            " 97%|█████████▋| 249/258 [00:06<00:00, 42.10it/s]\u001b[A\n",
            "100%|██████████| 258/258 [00:06<00:00, 41.20it/s]\n"
          ]
        },
        {
          "output_type": "stream",
          "name": "stdout",
          "text": [
            "Evaluation Results:\n",
            "HR@1: 0.0109, NDCG@1: 0.0109\n",
            "HR@5: 0.0407, NDCG@5: 0.0258\n",
            "HR@10: 0.0727, NDCG@10: 0.0361\n"
          ]
        },
        {
          "output_type": "stream",
          "name": "stderr",
          "text": [
            "Epoch 12/50:  64%|██████▎   | 164/258 [00:17<01:10,  1.33it/s]"
          ]
        },
        {
          "output_type": "stream",
          "name": "stdout",
          "text": [
            "New best model saved!\n"
          ]
        },
        {
          "output_type": "stream",
          "name": "stderr",
          "text": [
            "Epoch 12/50: 100%|██████████| 258/258 [00:24<00:00, 10.74it/s]\n"
          ]
        },
        {
          "output_type": "stream",
          "name": "stdout",
          "text": [
            "Epoch 12 completed in 24.03 seconds\n"
          ]
        },
        {
          "output_type": "stream",
          "name": "stderr",
          "text": [
            "Epoch 13/50: 100%|██████████| 258/258 [00:17<00:00, 14.71it/s]\n"
          ]
        },
        {
          "output_type": "stream",
          "name": "stdout",
          "text": [
            "Epoch 13 completed in 17.55 seconds\n"
          ]
        },
        {
          "output_type": "stream",
          "name": "stderr",
          "text": [
            "Epoch 14/50: 100%|██████████| 258/258 [00:17<00:00, 14.73it/s]\n"
          ]
        },
        {
          "output_type": "stream",
          "name": "stdout",
          "text": [
            "Epoch 14 completed in 17.53 seconds\n"
          ]
        },
        {
          "output_type": "stream",
          "name": "stderr",
          "text": [
            "Epoch 15/50: 100%|██████████| 258/258 [00:17<00:00, 14.67it/s]\n"
          ]
        },
        {
          "output_type": "stream",
          "name": "stdout",
          "text": [
            "Epoch 15 completed in 17.60 seconds\n"
          ]
        },
        {
          "output_type": "stream",
          "name": "stderr",
          "text": [
            "Epoch 16/50:  50%|████▉     | 128/258 [00:08<00:08, 14.48it/s]"
          ]
        },
        {
          "output_type": "stream",
          "name": "stdout",
          "text": [
            "\n",
            "Step 4000, Average Loss: 1.3820\n"
          ]
        },
        {
          "output_type": "stream",
          "name": "stderr",
          "text": [
            "\n",
            "  0%|          | 0/258 [00:00<?, ?it/s]\u001b[A\n",
            "  2%|▏         | 4/258 [00:00<00:07, 32.69it/s]\u001b[A\n",
            "  3%|▎         | 8/258 [00:00<00:07, 32.52it/s]\u001b[A\n",
            "  5%|▍         | 12/258 [00:00<00:07, 33.42it/s]\u001b[A\n",
            "  6%|▌         | 16/258 [00:00<00:08, 30.03it/s]\u001b[A\n",
            "  8%|▊         | 20/258 [00:00<00:07, 30.33it/s]\u001b[A\n",
            "  9%|▉         | 24/258 [00:00<00:07, 31.29it/s]\u001b[A\n",
            " 11%|█         | 28/258 [00:00<00:07, 32.04it/s]\u001b[A\n",
            " 12%|█▏        | 32/258 [00:01<00:07, 32.12it/s]\u001b[A\n",
            " 14%|█▍        | 36/258 [00:01<00:06, 31.86it/s]\u001b[A\n",
            " 16%|█▌        | 41/258 [00:01<00:06, 35.80it/s]\u001b[A\n",
            " 18%|█▊        | 46/258 [00:01<00:05, 37.88it/s]\u001b[A\n",
            " 19%|█▉        | 50/258 [00:01<00:05, 37.98it/s]\u001b[A\n",
            " 21%|██▏       | 55/258 [00:01<00:05, 39.30it/s]\u001b[A\n",
            " 23%|██▎       | 60/258 [00:01<00:04, 41.42it/s]\u001b[A\n",
            " 25%|██▌       | 65/258 [00:01<00:04, 42.80it/s]\u001b[A\n",
            " 27%|██▋       | 70/258 [00:01<00:04, 41.41it/s]\u001b[A\n",
            " 29%|██▉       | 75/258 [00:02<00:04, 42.81it/s]\u001b[A\n",
            " 31%|███       | 80/258 [00:02<00:04, 44.05it/s]\u001b[A\n",
            " 33%|███▎      | 85/258 [00:02<00:03, 43.68it/s]\u001b[A\n",
            " 35%|███▍      | 90/258 [00:02<00:03, 43.40it/s]\u001b[A\n",
            " 37%|███▋      | 95/258 [00:02<00:03, 41.31it/s]\u001b[A\n",
            " 39%|███▉      | 100/258 [00:02<00:03, 42.57it/s]\u001b[A\n",
            " 41%|████      | 105/258 [00:02<00:03, 43.70it/s]\u001b[A\n",
            " 43%|████▎     | 110/258 [00:02<00:03, 43.73it/s]\u001b[A\n",
            " 45%|████▍     | 115/258 [00:02<00:03, 44.40it/s]\u001b[A\n",
            " 47%|████▋     | 120/258 [00:03<00:03, 44.59it/s]\u001b[A\n",
            " 48%|████▊     | 125/258 [00:03<00:03, 44.31it/s]\u001b[A\n",
            " 50%|█████     | 130/258 [00:03<00:02, 44.56it/s]\u001b[A\n",
            " 52%|█████▏    | 135/258 [00:03<00:02, 43.20it/s]\u001b[A\n",
            " 54%|█████▍    | 140/258 [00:03<00:02, 42.12it/s]\u001b[A\n",
            " 56%|█████▌    | 145/258 [00:03<00:02, 43.30it/s]\u001b[A\n",
            " 58%|█████▊    | 150/258 [00:03<00:02, 44.08it/s]\u001b[A\n",
            " 60%|██████    | 155/258 [00:03<00:02, 44.60it/s]\u001b[A\n",
            " 62%|██████▏   | 160/258 [00:03<00:02, 45.20it/s]\u001b[A\n",
            " 64%|██████▍   | 165/258 [00:04<00:02, 44.77it/s]\u001b[A\n",
            " 66%|██████▌   | 170/258 [00:04<00:01, 44.86it/s]\u001b[A\n",
            " 68%|██████▊   | 175/258 [00:04<00:01, 44.68it/s]\u001b[A\n",
            " 70%|██████▉   | 180/258 [00:04<00:01, 42.72it/s]\u001b[A\n",
            " 72%|███████▏  | 185/258 [00:04<00:01, 42.25it/s]\u001b[A\n",
            " 74%|███████▎  | 190/258 [00:04<00:01, 43.06it/s]\u001b[A\n",
            " 76%|███████▌  | 195/258 [00:04<00:01, 43.43it/s]\u001b[A\n",
            " 78%|███████▊  | 200/258 [00:04<00:01, 44.01it/s]\u001b[A\n",
            " 79%|███████▉  | 205/258 [00:05<00:01, 44.39it/s]\u001b[A\n",
            " 81%|████████▏ | 210/258 [00:05<00:01, 43.51it/s]\u001b[A\n",
            " 83%|████████▎ | 215/258 [00:05<00:00, 43.85it/s]\u001b[A\n",
            " 85%|████████▌ | 220/258 [00:05<00:00, 44.68it/s]\u001b[A\n",
            " 87%|████████▋ | 225/258 [00:05<00:00, 41.45it/s]\u001b[A\n",
            " 89%|████████▉ | 230/258 [00:05<00:00, 41.33it/s]\u001b[A\n",
            " 91%|█████████ | 235/258 [00:05<00:00, 41.99it/s]\u001b[A\n",
            " 93%|█████████▎| 240/258 [00:05<00:00, 42.73it/s]\u001b[A\n",
            " 95%|█████████▍| 245/258 [00:05<00:00, 43.44it/s]\u001b[A\n",
            " 97%|█████████▋| 250/258 [00:06<00:00, 44.19it/s]\u001b[A\n",
            "100%|██████████| 258/258 [00:06<00:00, 41.52it/s]\n"
          ]
        },
        {
          "output_type": "stream",
          "name": "stdout",
          "text": [
            "Evaluation Results:\n",
            "HR@1: 0.0172, NDCG@1: 0.0172\n",
            "HR@5: 0.0515, NDCG@5: 0.0341\n",
            "HR@10: 0.0857, NDCG@10: 0.0451\n"
          ]
        },
        {
          "output_type": "stream",
          "name": "stderr",
          "text": [
            "Epoch 16/50:  51%|█████     | 132/258 [00:15<01:34,  1.34it/s]"
          ]
        },
        {
          "output_type": "stream",
          "name": "stdout",
          "text": [
            "New best model saved!\n"
          ]
        },
        {
          "output_type": "stream",
          "name": "stderr",
          "text": [
            "Epoch 16/50: 100%|██████████| 258/258 [00:24<00:00, 10.71it/s]\n"
          ]
        },
        {
          "output_type": "stream",
          "name": "stdout",
          "text": [
            "Epoch 16 completed in 24.09 seconds\n"
          ]
        },
        {
          "output_type": "stream",
          "name": "stderr",
          "text": [
            "Epoch 17/50: 100%|██████████| 258/258 [00:17<00:00, 14.71it/s]\n"
          ]
        },
        {
          "output_type": "stream",
          "name": "stdout",
          "text": [
            "Epoch 17 completed in 17.55 seconds\n"
          ]
        },
        {
          "output_type": "stream",
          "name": "stderr",
          "text": [
            "Epoch 18/50: 100%|██████████| 258/258 [00:17<00:00, 14.67it/s]\n"
          ]
        },
        {
          "output_type": "stream",
          "name": "stdout",
          "text": [
            "Epoch 18 completed in 17.60 seconds\n"
          ]
        },
        {
          "output_type": "stream",
          "name": "stderr",
          "text": [
            "Epoch 19/50: 100%|██████████| 258/258 [00:17<00:00, 14.72it/s]\n"
          ]
        },
        {
          "output_type": "stream",
          "name": "stdout",
          "text": [
            "Epoch 19 completed in 17.54 seconds\n"
          ]
        },
        {
          "output_type": "stream",
          "name": "stderr",
          "text": [
            "Epoch 20/50:  37%|███▋      | 96/258 [00:06<00:11, 14.23it/s]"
          ]
        },
        {
          "output_type": "stream",
          "name": "stdout",
          "text": [
            "\n",
            "Step 5000, Average Loss: 0.9711\n"
          ]
        },
        {
          "output_type": "stream",
          "name": "stderr",
          "text": [
            "\n",
            "  0%|          | 0/258 [00:00<?, ?it/s]\u001b[A\n",
            "  2%|▏         | 4/258 [00:00<00:07, 33.24it/s]\u001b[A\n",
            "  3%|▎         | 8/258 [00:00<00:07, 31.76it/s]\u001b[A\n",
            "  5%|▌         | 13/258 [00:00<00:06, 36.68it/s]\u001b[A\n",
            "  7%|▋         | 18/258 [00:00<00:06, 39.53it/s]\u001b[A\n",
            "  9%|▉         | 23/258 [00:00<00:05, 41.19it/s]\u001b[A\n",
            " 11%|█         | 28/258 [00:00<00:05, 42.76it/s]\u001b[A\n",
            " 13%|█▎        | 33/258 [00:00<00:05, 40.48it/s]\u001b[A\n",
            " 15%|█▍        | 38/258 [00:00<00:05, 41.89it/s]\u001b[A\n",
            " 17%|█▋        | 43/258 [00:01<00:04, 43.03it/s]\u001b[A\n",
            " 19%|█▊        | 48/258 [00:01<00:04, 42.34it/s]\u001b[A\n",
            " 21%|██        | 53/258 [00:01<00:04, 42.87it/s]\u001b[A\n",
            " 22%|██▏       | 58/258 [00:01<00:04, 43.66it/s]\u001b[A\n",
            " 24%|██▍       | 63/258 [00:01<00:04, 43.69it/s]\u001b[A\n",
            " 26%|██▋       | 68/258 [00:01<00:04, 44.57it/s]\u001b[A\n",
            " 28%|██▊       | 73/258 [00:01<00:04, 43.45it/s]\u001b[A\n",
            " 30%|███       | 78/258 [00:01<00:04, 41.49it/s]\u001b[A\n",
            " 32%|███▏      | 83/258 [00:01<00:04, 42.50it/s]\u001b[A\n",
            " 34%|███▍      | 88/258 [00:02<00:03, 43.06it/s]\u001b[A\n",
            " 36%|███▌      | 93/258 [00:02<00:03, 43.62it/s]\u001b[A\n",
            " 38%|███▊      | 98/258 [00:02<00:03, 43.88it/s]\u001b[A\n",
            " 40%|███▉      | 103/258 [00:02<00:03, 44.64it/s]\u001b[A\n",
            " 42%|████▏     | 108/258 [00:02<00:03, 45.16it/s]\u001b[A\n",
            " 44%|████▍     | 113/258 [00:02<00:03, 45.46it/s]\u001b[A\n",
            " 46%|████▌     | 118/258 [00:02<00:03, 43.06it/s]\u001b[A\n",
            " 48%|████▊     | 123/258 [00:02<00:03, 41.84it/s]\u001b[A\n",
            " 50%|████▉     | 128/258 [00:03<00:03, 43.33it/s]\u001b[A\n",
            " 52%|█████▏    | 133/258 [00:03<00:02, 44.23it/s]\u001b[A\n",
            " 53%|█████▎    | 138/258 [00:03<00:02, 44.44it/s]\u001b[A\n",
            " 55%|█████▌    | 143/258 [00:03<00:02, 44.80it/s]\u001b[A\n",
            " 57%|█████▋    | 148/258 [00:03<00:02, 45.33it/s]\u001b[A\n",
            " 59%|█████▉    | 153/258 [00:03<00:02, 44.79it/s]\u001b[A\n",
            " 61%|██████    | 158/258 [00:03<00:02, 45.19it/s]\u001b[A\n",
            " 63%|██████▎   | 163/258 [00:03<00:02, 43.13it/s]\u001b[A\n",
            " 65%|██████▌   | 168/258 [00:03<00:02, 42.31it/s]\u001b[A\n",
            " 67%|██████▋   | 173/258 [00:04<00:01, 43.35it/s]\u001b[A\n",
            " 69%|██████▉   | 178/258 [00:04<00:01, 43.17it/s]\u001b[A\n",
            " 71%|███████   | 183/258 [00:04<00:01, 43.55it/s]\u001b[A\n",
            " 73%|███████▎  | 188/258 [00:04<00:01, 43.78it/s]\u001b[A\n",
            " 75%|███████▍  | 193/258 [00:04<00:01, 44.07it/s]\u001b[A\n",
            " 77%|███████▋  | 198/258 [00:04<00:01, 44.44it/s]\u001b[A\n",
            " 79%|███████▊  | 203/258 [00:04<00:01, 45.07it/s]\u001b[A\n",
            " 81%|████████  | 208/258 [00:04<00:01, 42.59it/s]\u001b[A\n",
            " 83%|████████▎ | 213/258 [00:04<00:01, 42.56it/s]\u001b[A\n",
            " 84%|████████▍ | 218/258 [00:05<00:00, 43.30it/s]\u001b[A\n",
            " 86%|████████▋ | 223/258 [00:05<00:00, 43.97it/s]\u001b[A\n",
            " 88%|████████▊ | 228/258 [00:05<00:00, 44.56it/s]\u001b[A\n",
            " 90%|█████████ | 233/258 [00:05<00:00, 43.11it/s]\u001b[A\n",
            " 92%|█████████▏| 238/258 [00:05<00:00, 43.82it/s]\u001b[A\n",
            " 94%|█████████▍| 243/258 [00:05<00:00, 44.38it/s]\u001b[A\n",
            " 96%|█████████▌| 248/258 [00:05<00:00, 43.33it/s]\u001b[A\n",
            " 98%|█████████▊| 253/258 [00:05<00:00, 41.49it/s]\u001b[A\n",
            "100%|██████████| 258/258 [00:05<00:00, 43.03it/s]\n"
          ]
        },
        {
          "output_type": "stream",
          "name": "stdout",
          "text": [
            "Evaluation Results:\n",
            "HR@1: 0.0233, NDCG@1: 0.0233\n",
            "HR@5: 0.0678, NDCG@5: 0.0457\n",
            "HR@10: 0.1072, NDCG@10: 0.0584\n"
          ]
        },
        {
          "output_type": "stream",
          "name": "stderr",
          "text": [
            "Epoch 20/50:  39%|███▉      | 100/258 [00:13<01:55,  1.37it/s]"
          ]
        },
        {
          "output_type": "stream",
          "name": "stdout",
          "text": [
            "New best model saved!\n"
          ]
        },
        {
          "output_type": "stream",
          "name": "stderr",
          "text": [
            "Epoch 20/50: 100%|██████████| 258/258 [00:23<00:00, 10.78it/s]\n"
          ]
        },
        {
          "output_type": "stream",
          "name": "stdout",
          "text": [
            "Epoch 20 completed in 23.94 seconds\n"
          ]
        },
        {
          "output_type": "stream",
          "name": "stderr",
          "text": [
            "Epoch 21/50: 100%|██████████| 258/258 [00:17<00:00, 14.71it/s]\n"
          ]
        },
        {
          "output_type": "stream",
          "name": "stdout",
          "text": [
            "Epoch 21 completed in 17.55 seconds\n"
          ]
        },
        {
          "output_type": "stream",
          "name": "stderr",
          "text": [
            "Epoch 22/50: 100%|██████████| 258/258 [00:17<00:00, 14.68it/s]\n"
          ]
        },
        {
          "output_type": "stream",
          "name": "stdout",
          "text": [
            "Epoch 22 completed in 17.58 seconds\n"
          ]
        },
        {
          "output_type": "stream",
          "name": "stderr",
          "text": [
            "Epoch 23/50: 100%|██████████| 258/258 [00:17<00:00, 14.70it/s]\n"
          ]
        },
        {
          "output_type": "stream",
          "name": "stdout",
          "text": [
            "Epoch 23 completed in 17.57 seconds\n"
          ]
        },
        {
          "output_type": "stream",
          "name": "stderr",
          "text": [
            "Epoch 24/50:  25%|██▍       | 64/258 [00:04<00:13, 14.54it/s]"
          ]
        },
        {
          "output_type": "stream",
          "name": "stdout",
          "text": [
            "\n",
            "Step 6000, Average Loss: 0.5979\n"
          ]
        },
        {
          "output_type": "stream",
          "name": "stderr",
          "text": [
            "\n",
            "  0%|          | 0/258 [00:00<?, ?it/s]\u001b[A\n",
            "  2%|▏         | 5/258 [00:00<00:05, 46.54it/s]\u001b[A\n",
            "  4%|▍         | 10/258 [00:00<00:05, 45.35it/s]\u001b[A\n",
            "  6%|▌         | 15/258 [00:00<00:05, 43.85it/s]\u001b[A\n",
            "  8%|▊         | 20/258 [00:00<00:05, 43.34it/s]\u001b[A\n",
            " 10%|▉         | 25/258 [00:00<00:05, 43.77it/s]\u001b[A\n",
            " 12%|█▏        | 30/258 [00:00<00:05, 44.23it/s]\u001b[A\n",
            " 14%|█▎        | 35/258 [00:00<00:05, 44.27it/s]\u001b[A\n",
            " 16%|█▌        | 40/258 [00:00<00:04, 44.87it/s]\u001b[A\n",
            " 17%|█▋        | 45/258 [00:01<00:04, 44.77it/s]\u001b[A\n",
            " 19%|█▉        | 50/258 [00:01<00:04, 44.84it/s]\u001b[A\n",
            " 21%|██▏       | 55/258 [00:01<00:04, 45.36it/s]\u001b[A\n",
            " 23%|██▎       | 60/258 [00:01<00:04, 43.48it/s]\u001b[A\n",
            " 25%|██▌       | 65/258 [00:01<00:04, 42.39it/s]\u001b[A\n",
            " 27%|██▋       | 70/258 [00:01<00:04, 43.36it/s]\u001b[A\n",
            " 29%|██▉       | 75/258 [00:01<00:04, 43.68it/s]\u001b[A\n",
            " 31%|███       | 80/258 [00:01<00:04, 43.40it/s]\u001b[A\n",
            " 33%|███▎      | 85/258 [00:01<00:03, 44.16it/s]\u001b[A\n",
            " 35%|███▍      | 90/258 [00:02<00:03, 43.94it/s]\u001b[A\n",
            " 37%|███▋      | 95/258 [00:02<00:03, 44.41it/s]\u001b[A\n",
            " 39%|███▉      | 100/258 [00:02<00:03, 44.95it/s]\u001b[A\n",
            " 41%|████      | 105/258 [00:02<00:03, 42.93it/s]\u001b[A\n",
            " 43%|████▎     | 110/258 [00:02<00:03, 42.63it/s]\u001b[A\n",
            " 45%|████▍     | 115/258 [00:02<00:03, 43.46it/s]\u001b[A\n",
            " 47%|████▋     | 120/258 [00:02<00:03, 43.43it/s]\u001b[A\n",
            " 48%|████▊     | 125/258 [00:02<00:03, 44.14it/s]\u001b[A\n",
            " 50%|█████     | 130/258 [00:02<00:02, 44.55it/s]\u001b[A\n",
            " 52%|█████▏    | 135/258 [00:03<00:02, 44.29it/s]\u001b[A\n",
            " 54%|█████▍    | 140/258 [00:03<00:02, 44.51it/s]\u001b[A\n",
            " 56%|█████▌    | 145/258 [00:03<00:02, 42.30it/s]\u001b[A\n",
            " 58%|█████▊    | 150/258 [00:03<00:02, 41.12it/s]\u001b[A\n",
            " 60%|██████    | 155/258 [00:03<00:02, 41.45it/s]\u001b[A\n",
            " 62%|██████▏   | 160/258 [00:03<00:02, 42.12it/s]\u001b[A\n",
            " 64%|██████▍   | 165/258 [00:03<00:02, 42.03it/s]\u001b[A\n",
            " 66%|██████▌   | 170/258 [00:03<00:02, 42.83it/s]\u001b[A\n",
            " 68%|██████▊   | 175/258 [00:04<00:01, 42.34it/s]\u001b[A\n",
            " 70%|██████▉   | 180/258 [00:04<00:01, 43.35it/s]\u001b[A\n",
            " 72%|███████▏  | 185/258 [00:04<00:01, 43.81it/s]\u001b[A\n",
            " 74%|███████▎  | 190/258 [00:04<00:01, 41.95it/s]\u001b[A\n",
            " 76%|███████▌  | 195/258 [00:04<00:01, 41.13it/s]\u001b[A\n",
            " 78%|███████▊  | 200/258 [00:04<00:01, 42.43it/s]\u001b[A\n",
            " 79%|███████▉  | 205/258 [00:04<00:01, 43.48it/s]\u001b[A\n",
            " 81%|████████▏ | 210/258 [00:04<00:01, 43.99it/s]\u001b[A\n",
            " 83%|████████▎ | 215/258 [00:04<00:00, 44.53it/s]\u001b[A\n",
            " 85%|████████▌ | 220/258 [00:05<00:00, 44.38it/s]\u001b[A\n",
            " 87%|████████▋ | 225/258 [00:05<00:00, 44.22it/s]\u001b[A\n",
            " 89%|████████▉ | 230/258 [00:05<00:00, 43.59it/s]\u001b[A\n",
            " 91%|█████████ | 235/258 [00:05<00:00, 42.08it/s]\u001b[A\n",
            " 93%|█████████▎| 240/258 [00:05<00:00, 41.02it/s]\u001b[A\n",
            " 95%|█████████▍| 245/258 [00:05<00:00, 41.83it/s]\u001b[A\n",
            " 97%|█████████▋| 250/258 [00:05<00:00, 42.97it/s]\u001b[A\n",
            "100%|██████████| 258/258 [00:05<00:00, 43.44it/s]\n"
          ]
        },
        {
          "output_type": "stream",
          "name": "stdout",
          "text": [
            "Evaluation Results:\n",
            "HR@1: 0.0353, NDCG@1: 0.0353\n",
            "HR@5: 0.0831, NDCG@5: 0.0597\n",
            "HR@10: 0.1217, NDCG@10: 0.0721\n"
          ]
        },
        {
          "output_type": "stream",
          "name": "stderr",
          "text": [
            "Epoch 24/50:  26%|██▋       | 68/258 [00:10<02:16,  1.39it/s]"
          ]
        },
        {
          "output_type": "stream",
          "name": "stdout",
          "text": [
            "New best model saved!\n"
          ]
        },
        {
          "output_type": "stream",
          "name": "stderr",
          "text": [
            "Epoch 24/50: 100%|██████████| 258/258 [00:23<00:00, 10.86it/s]\n"
          ]
        },
        {
          "output_type": "stream",
          "name": "stdout",
          "text": [
            "Epoch 24 completed in 23.76 seconds\n"
          ]
        },
        {
          "output_type": "stream",
          "name": "stderr",
          "text": [
            "Epoch 25/50: 100%|██████████| 258/258 [00:17<00:00, 14.66it/s]\n"
          ]
        },
        {
          "output_type": "stream",
          "name": "stdout",
          "text": [
            "Epoch 25 completed in 17.60 seconds\n"
          ]
        },
        {
          "output_type": "stream",
          "name": "stderr",
          "text": [
            "Epoch 26/50: 100%|██████████| 258/258 [00:17<00:00, 14.69it/s]\n"
          ]
        },
        {
          "output_type": "stream",
          "name": "stdout",
          "text": [
            "Epoch 26 completed in 17.57 seconds\n"
          ]
        },
        {
          "output_type": "stream",
          "name": "stderr",
          "text": [
            "Epoch 27/50: 100%|██████████| 258/258 [00:17<00:00, 14.59it/s]\n"
          ]
        },
        {
          "output_type": "stream",
          "name": "stdout",
          "text": [
            "Epoch 27 completed in 17.68 seconds\n"
          ]
        },
        {
          "output_type": "stream",
          "name": "stderr",
          "text": [
            "Epoch 28/50:  12%|█▏        | 32/258 [00:02<00:15, 14.52it/s]"
          ]
        },
        {
          "output_type": "stream",
          "name": "stdout",
          "text": [
            "\n",
            "Step 7000, Average Loss: 0.2738\n"
          ]
        },
        {
          "output_type": "stream",
          "name": "stderr",
          "text": [
            "\n",
            "  0%|          | 0/258 [00:00<?, ?it/s]\u001b[A\n",
            "  2%|▏         | 5/258 [00:00<00:05, 43.09it/s]\u001b[A\n",
            "  4%|▍         | 10/258 [00:00<00:05, 44.78it/s]\u001b[A\n",
            "  6%|▌         | 15/258 [00:00<00:05, 44.24it/s]\u001b[A\n",
            "  8%|▊         | 20/258 [00:00<00:05, 44.52it/s]\u001b[A\n",
            " 10%|▉         | 25/258 [00:00<00:05, 44.49it/s]\u001b[A\n",
            " 12%|█▏        | 30/258 [00:00<00:05, 45.08it/s]\u001b[A\n",
            " 14%|█▎        | 35/258 [00:00<00:04, 44.92it/s]\u001b[A\n",
            " 16%|█▌        | 40/258 [00:00<00:05, 42.91it/s]\u001b[A\n",
            " 17%|█▋        | 45/258 [00:01<00:05, 42.44it/s]\u001b[A\n",
            " 19%|█▉        | 50/258 [00:01<00:04, 42.60it/s]\u001b[A\n",
            " 21%|██▏       | 55/258 [00:01<00:04, 43.55it/s]\u001b[A\n",
            " 23%|██▎       | 60/258 [00:01<00:04, 43.80it/s]\u001b[A\n",
            " 25%|██▌       | 65/258 [00:01<00:04, 44.13it/s]\u001b[A\n",
            " 27%|██▋       | 70/258 [00:01<00:04, 44.29it/s]\u001b[A\n",
            " 29%|██▉       | 75/258 [00:01<00:04, 44.08it/s]\u001b[A\n",
            " 31%|███       | 80/258 [00:01<00:04, 44.09it/s]\u001b[A\n",
            " 33%|███▎      | 85/258 [00:01<00:04, 42.29it/s]\u001b[A\n",
            " 35%|███▍      | 90/258 [00:02<00:03, 42.90it/s]\u001b[A\n",
            " 37%|███▋      | 95/258 [00:02<00:03, 42.74it/s]\u001b[A\n",
            " 39%|███▉      | 100/258 [00:02<00:03, 43.30it/s]\u001b[A\n",
            " 41%|████      | 105/258 [00:02<00:03, 43.90it/s]\u001b[A\n",
            " 43%|████▎     | 110/258 [00:02<00:03, 43.91it/s]\u001b[A\n",
            " 45%|████▍     | 115/258 [00:02<00:03, 43.91it/s]\u001b[A\n",
            " 47%|████▋     | 120/258 [00:02<00:03, 44.39it/s]\u001b[A\n",
            " 48%|████▊     | 125/258 [00:02<00:03, 43.64it/s]\u001b[A\n",
            " 50%|█████     | 130/258 [00:02<00:03, 42.61it/s]\u001b[A\n",
            " 52%|█████▏    | 135/258 [00:03<00:02, 43.33it/s]\u001b[A\n",
            " 54%|█████▍    | 140/258 [00:03<00:02, 43.07it/s]\u001b[A\n",
            " 56%|█████▌    | 145/258 [00:03<00:02, 43.51it/s]\u001b[A\n",
            " 58%|█████▊    | 150/258 [00:03<00:02, 43.88it/s]\u001b[A\n",
            " 60%|██████    | 155/258 [00:03<00:02, 43.55it/s]\u001b[A\n",
            " 62%|██████▏   | 160/258 [00:03<00:02, 44.03it/s]\u001b[A\n",
            " 64%|██████▍   | 165/258 [00:03<00:02, 44.18it/s]\u001b[A\n",
            " 66%|██████▌   | 170/258 [00:03<00:02, 42.06it/s]\u001b[A\n",
            " 68%|██████▊   | 175/258 [00:04<00:01, 42.12it/s]\u001b[A\n",
            " 70%|██████▉   | 180/258 [00:04<00:01, 42.57it/s]\u001b[A\n",
            " 72%|███████▏  | 185/258 [00:04<00:01, 42.63it/s]\u001b[A\n",
            " 74%|███████▎  | 190/258 [00:04<00:01, 43.53it/s]\u001b[A\n",
            " 76%|███████▌  | 195/258 [00:04<00:01, 44.26it/s]\u001b[A\n",
            " 78%|███████▊  | 200/258 [00:04<00:01, 44.79it/s]\u001b[A\n",
            " 79%|███████▉  | 205/258 [00:04<00:01, 45.25it/s]\u001b[A\n",
            " 81%|████████▏ | 210/258 [00:04<00:01, 44.62it/s]\u001b[A\n",
            " 83%|████████▎ | 215/258 [00:04<00:01, 42.85it/s]\u001b[A\n",
            " 85%|████████▌ | 220/258 [00:05<00:00, 43.66it/s]\u001b[A\n",
            " 87%|████████▋ | 225/258 [00:05<00:00, 43.17it/s]\u001b[A\n",
            " 89%|████████▉ | 230/258 [00:05<00:00, 43.01it/s]\u001b[A\n",
            " 91%|█████████ | 235/258 [00:05<00:00, 43.46it/s]\u001b[A\n",
            " 93%|█████████▎| 240/258 [00:05<00:00, 43.72it/s]\u001b[A\n",
            " 95%|█████████▍| 245/258 [00:05<00:00, 43.76it/s]\u001b[A\n",
            " 97%|█████████▋| 250/258 [00:05<00:00, 44.27it/s]\u001b[A\n",
            "100%|██████████| 258/258 [00:05<00:00, 43.59it/s]\n"
          ]
        },
        {
          "output_type": "stream",
          "name": "stdout",
          "text": [
            "Evaluation Results:\n",
            "HR@1: 0.0457, NDCG@1: 0.0457\n",
            "HR@5: 0.0986, NDCG@5: 0.0725\n",
            "HR@10: 0.1372, NDCG@10: 0.0849\n"
          ]
        },
        {
          "output_type": "stream",
          "name": "stderr",
          "text": [
            "Epoch 28/50:  14%|█▍        | 36/258 [00:08<02:39,  1.39it/s]"
          ]
        },
        {
          "output_type": "stream",
          "name": "stdout",
          "text": [
            "New best model saved!\n"
          ]
        },
        {
          "output_type": "stream",
          "name": "stderr",
          "text": [
            "Epoch 28/50: 100%|██████████| 258/258 [00:23<00:00, 10.85it/s]\n"
          ]
        },
        {
          "output_type": "stream",
          "name": "stdout",
          "text": [
            "Epoch 28 completed in 23.79 seconds\n"
          ]
        },
        {
          "output_type": "stream",
          "name": "stderr",
          "text": [
            "Epoch 29/50: 100%|██████████| 258/258 [00:17<00:00, 14.66it/s]\n"
          ]
        },
        {
          "output_type": "stream",
          "name": "stdout",
          "text": [
            "Epoch 29 completed in 17.61 seconds\n"
          ]
        },
        {
          "output_type": "stream",
          "name": "stderr",
          "text": [
            "Epoch 30/50: 100%|██████████| 258/258 [00:17<00:00, 14.66it/s]\n"
          ]
        },
        {
          "output_type": "stream",
          "name": "stdout",
          "text": [
            "Epoch 30 completed in 17.61 seconds\n"
          ]
        },
        {
          "output_type": "stream",
          "name": "stderr",
          "text": [
            "Epoch 31/50: 100%|██████████| 258/258 [00:17<00:00, 14.65it/s]\n"
          ]
        },
        {
          "output_type": "stream",
          "name": "stdout",
          "text": [
            "Epoch 31 completed in 17.62 seconds\n"
          ]
        },
        {
          "output_type": "stream",
          "name": "stderr",
          "text": [
            "\rEpoch 32/50:   0%|          | 0/258 [00:00<?, ?it/s]"
          ]
        },
        {
          "output_type": "stream",
          "name": "stdout",
          "text": [
            "\n",
            "Step 8000, Average Loss: 0.0155\n"
          ]
        },
        {
          "output_type": "stream",
          "name": "stderr",
          "text": [
            "\n",
            "  0%|          | 0/258 [00:00<?, ?it/s]\u001b[A\n",
            "  2%|▏         | 5/258 [00:00<00:05, 46.37it/s]\u001b[A\n",
            "  4%|▍         | 10/258 [00:00<00:05, 46.01it/s]\u001b[A\n",
            "  6%|▌         | 15/258 [00:00<00:05, 44.79it/s]\u001b[A\n",
            "  8%|▊         | 20/258 [00:00<00:05, 43.49it/s]\u001b[A\n",
            " 10%|▉         | 25/258 [00:00<00:05, 42.41it/s]\u001b[A\n",
            " 12%|█▏        | 30/258 [00:00<00:05, 40.77it/s]\u001b[A\n",
            " 14%|█▎        | 35/258 [00:00<00:06, 36.68it/s]\u001b[A\n",
            " 15%|█▌        | 39/258 [00:00<00:06, 35.83it/s]\u001b[A\n",
            " 17%|█▋        | 43/258 [00:01<00:06, 35.20it/s]\u001b[A\n",
            " 18%|█▊        | 47/258 [00:01<00:05, 35.38it/s]\u001b[A\n",
            " 20%|█▉        | 51/258 [00:01<00:05, 35.33it/s]\u001b[A\n",
            " 21%|██▏       | 55/258 [00:01<00:05, 35.27it/s]\u001b[A\n",
            " 23%|██▎       | 59/258 [00:01<00:05, 33.55it/s]\u001b[A\n",
            " 24%|██▍       | 63/258 [00:01<00:05, 34.20it/s]\u001b[A\n",
            " 26%|██▌       | 67/258 [00:01<00:05, 34.19it/s]\u001b[A\n",
            " 28%|██▊       | 71/258 [00:01<00:05, 34.61it/s]\u001b[A\n",
            " 29%|██▉       | 75/258 [00:02<00:05, 35.11it/s]\u001b[A\n",
            " 31%|███       | 79/258 [00:02<00:05, 34.00it/s]\u001b[A\n",
            " 32%|███▏      | 83/258 [00:02<00:05, 33.23it/s]\u001b[A\n",
            " 34%|███▎      | 87/258 [00:02<00:05, 33.07it/s]\u001b[A\n",
            " 35%|███▌      | 91/258 [00:02<00:05, 30.70it/s]\u001b[A\n",
            " 37%|███▋      | 95/258 [00:02<00:05, 30.25it/s]\u001b[A\n",
            " 38%|███▊      | 99/258 [00:02<00:05, 31.10it/s]\u001b[A\n",
            " 40%|███▉      | 103/258 [00:02<00:05, 30.98it/s]\u001b[A\n",
            " 41%|████▏     | 107/258 [00:03<00:04, 30.63it/s]\u001b[A\n",
            " 43%|████▎     | 111/258 [00:03<00:04, 31.35it/s]\u001b[A\n",
            " 45%|████▍     | 116/258 [00:03<00:04, 34.66it/s]\u001b[A\n",
            " 47%|████▋     | 121/258 [00:03<00:03, 36.99it/s]\u001b[A\n",
            " 48%|████▊     | 125/258 [00:03<00:03, 37.10it/s]\u001b[A\n",
            " 50%|█████     | 130/258 [00:03<00:03, 38.75it/s]\u001b[A\n",
            " 52%|█████▏    | 135/258 [00:03<00:03, 40.57it/s]\u001b[A\n",
            " 54%|█████▍    | 140/258 [00:03<00:02, 41.49it/s]\u001b[A\n",
            " 56%|█████▌    | 145/258 [00:04<00:02, 41.34it/s]\u001b[A\n",
            " 58%|█████▊    | 150/258 [00:04<00:02, 42.63it/s]\u001b[A\n",
            " 60%|██████    | 155/258 [00:04<00:02, 43.45it/s]\u001b[A\n",
            " 62%|██████▏   | 160/258 [00:04<00:02, 43.32it/s]\u001b[A\n",
            " 64%|██████▍   | 165/258 [00:04<00:02, 42.62it/s]\u001b[A\n",
            " 66%|██████▌   | 170/258 [00:04<00:02, 41.70it/s]\u001b[A\n",
            " 68%|██████▊   | 175/258 [00:04<00:01, 42.88it/s]\u001b[A\n",
            " 70%|██████▉   | 180/258 [00:04<00:01, 43.29it/s]\u001b[A\n",
            " 72%|███████▏  | 185/258 [00:04<00:01, 43.77it/s]\u001b[A\n",
            " 74%|███████▎  | 190/258 [00:05<00:01, 40.57it/s]\u001b[A\n",
            " 76%|███████▌  | 195/258 [00:05<00:01, 41.82it/s]\u001b[A\n",
            " 78%|███████▊  | 200/258 [00:05<00:01, 42.44it/s]\u001b[A\n",
            " 79%|███████▉  | 205/258 [00:05<00:01, 43.04it/s]\u001b[A\n",
            " 81%|████████▏ | 210/258 [00:05<00:01, 41.00it/s]\u001b[A\n",
            " 83%|████████▎ | 215/258 [00:05<00:01, 41.63it/s]\u001b[A\n",
            " 85%|████████▌ | 220/258 [00:05<00:00, 42.62it/s]\u001b[A\n",
            " 87%|████████▋ | 225/258 [00:05<00:00, 43.47it/s]\u001b[A\n",
            " 89%|████████▉ | 230/258 [00:05<00:00, 42.84it/s]\u001b[A\n",
            " 91%|█████████ | 235/258 [00:06<00:00, 43.21it/s]\u001b[A\n",
            " 93%|█████████▎| 240/258 [00:06<00:00, 43.61it/s]\u001b[A\n",
            " 95%|█████████▍| 245/258 [00:06<00:00, 44.11it/s]\u001b[A\n",
            " 97%|█████████▋| 250/258 [00:06<00:00, 43.43it/s]\u001b[A\n",
            "100%|██████████| 258/258 [00:06<00:00, 38.89it/s]\n"
          ]
        },
        {
          "output_type": "stream",
          "name": "stdout",
          "text": [
            "Evaluation Results:\n",
            "HR@1: 0.0590, NDCG@1: 0.0590\n",
            "HR@5: 0.1124, NDCG@5: 0.0864\n",
            "HR@10: 0.1511, NDCG@10: 0.0989\n"
          ]
        },
        {
          "output_type": "stream",
          "name": "stderr",
          "text": [
            "Epoch 32/50:   2%|▏         | 4/258 [00:07<06:16,  1.48s/it]"
          ]
        },
        {
          "output_type": "stream",
          "name": "stdout",
          "text": [
            "New best model saved!\n"
          ]
        },
        {
          "output_type": "stream",
          "name": "stderr",
          "text": [
            "Epoch 32/50: 100%|██████████| 258/258 [00:24<00:00, 10.53it/s]\n"
          ]
        },
        {
          "output_type": "stream",
          "name": "stdout",
          "text": [
            "Epoch 32 completed in 24.50 seconds\n"
          ]
        },
        {
          "output_type": "stream",
          "name": "stderr",
          "text": [
            "Epoch 33/50: 100%|██████████| 258/258 [00:17<00:00, 14.61it/s]\n"
          ]
        },
        {
          "output_type": "stream",
          "name": "stdout",
          "text": [
            "Epoch 33 completed in 17.67 seconds\n"
          ]
        },
        {
          "output_type": "stream",
          "name": "stderr",
          "text": [
            "Epoch 34/50: 100%|██████████| 258/258 [00:17<00:00, 14.59it/s]\n"
          ]
        },
        {
          "output_type": "stream",
          "name": "stdout",
          "text": [
            "Epoch 34 completed in 17.69 seconds\n"
          ]
        },
        {
          "output_type": "stream",
          "name": "stderr",
          "text": [
            "Epoch 35/50:  88%|████████▊ | 226/258 [00:15<00:02, 14.68it/s]"
          ]
        },
        {
          "output_type": "stream",
          "name": "stdout",
          "text": [
            "\n",
            "Step 9000, Average Loss: 1.5142\n"
          ]
        },
        {
          "output_type": "stream",
          "name": "stderr",
          "text": [
            "\n",
            "  0%|          | 0/258 [00:00<?, ?it/s]\u001b[A\n",
            "  2%|▏         | 4/258 [00:00<00:06, 39.24it/s]\u001b[A\n",
            "  3%|▎         | 9/258 [00:00<00:05, 41.66it/s]\u001b[A\n",
            "  5%|▌         | 14/258 [00:00<00:05, 43.23it/s]\u001b[A\n",
            "  7%|▋         | 19/258 [00:00<00:05, 43.44it/s]\u001b[A\n",
            "  9%|▉         | 24/258 [00:00<00:05, 42.31it/s]\u001b[A\n",
            " 11%|█         | 29/258 [00:00<00:05, 42.88it/s]\u001b[A\n",
            " 13%|█▎        | 34/258 [00:00<00:05, 43.78it/s]\u001b[A\n",
            " 15%|█▌        | 39/258 [00:00<00:05, 43.58it/s]\u001b[A\n",
            " 17%|█▋        | 44/258 [00:01<00:04, 43.76it/s]\u001b[A\n",
            " 19%|█▉        | 49/258 [00:01<00:04, 42.50it/s]\u001b[A\n",
            " 21%|██        | 54/258 [00:01<00:04, 41.68it/s]\u001b[A\n",
            " 23%|██▎       | 59/258 [00:01<00:04, 42.33it/s]\u001b[A\n",
            " 25%|██▍       | 64/258 [00:01<00:04, 43.28it/s]\u001b[A\n",
            " 27%|██▋       | 69/258 [00:01<00:04, 42.81it/s]\u001b[A\n",
            " 29%|██▊       | 74/258 [00:01<00:04, 43.70it/s]\u001b[A\n",
            " 31%|███       | 79/258 [00:01<00:04, 43.89it/s]\u001b[A\n",
            " 33%|███▎      | 84/258 [00:01<00:03, 44.11it/s]\u001b[A\n",
            " 34%|███▍      | 89/258 [00:02<00:03, 43.89it/s]\u001b[A\n",
            " 36%|███▋      | 94/258 [00:02<00:03, 41.78it/s]\u001b[A\n",
            " 38%|███▊      | 99/258 [00:02<00:03, 42.23it/s]\u001b[A\n",
            " 40%|████      | 104/258 [00:02<00:03, 43.07it/s]\u001b[A\n",
            " 42%|████▏     | 109/258 [00:02<00:03, 43.73it/s]\u001b[A\n",
            " 44%|████▍     | 114/258 [00:02<00:03, 42.99it/s]\u001b[A\n",
            " 46%|████▌     | 119/258 [00:02<00:03, 43.69it/s]\u001b[A\n",
            " 48%|████▊     | 124/258 [00:02<00:03, 43.95it/s]\u001b[A\n",
            " 50%|█████     | 129/258 [00:02<00:02, 43.83it/s]\u001b[A\n",
            " 52%|█████▏    | 134/258 [00:03<00:02, 43.45it/s]\u001b[A\n",
            " 54%|█████▍    | 139/258 [00:03<00:02, 42.00it/s]\u001b[A\n",
            " 56%|█████▌    | 144/258 [00:03<00:02, 42.97it/s]\u001b[A\n",
            " 58%|█████▊    | 149/258 [00:03<00:02, 43.35it/s]\u001b[A\n",
            " 60%|█████▉    | 154/258 [00:03<00:02, 43.61it/s]\u001b[A\n",
            " 62%|██████▏   | 159/258 [00:03<00:02, 43.19it/s]\u001b[A\n",
            " 64%|██████▎   | 164/258 [00:03<00:02, 43.62it/s]\u001b[A\n",
            " 66%|██████▌   | 169/258 [00:03<00:02, 43.77it/s]\u001b[A\n",
            " 67%|██████▋   | 174/258 [00:04<00:01, 44.00it/s]\u001b[A\n",
            " 69%|██████▉   | 179/258 [00:04<00:01, 42.47it/s]\u001b[A\n",
            " 71%|███████▏  | 184/258 [00:04<00:01, 42.55it/s]\u001b[A\n",
            " 73%|███████▎  | 189/258 [00:04<00:01, 43.38it/s]\u001b[A\n",
            " 75%|███████▌  | 194/258 [00:04<00:01, 43.92it/s]\u001b[A\n",
            " 77%|███████▋  | 199/258 [00:04<00:01, 44.36it/s]\u001b[A\n",
            " 79%|███████▉  | 204/258 [00:04<00:01, 43.95it/s]\u001b[A\n",
            " 81%|████████  | 209/258 [00:04<00:01, 44.26it/s]\u001b[A\n",
            " 83%|████████▎ | 214/258 [00:04<00:00, 44.95it/s]\u001b[A\n",
            " 85%|████████▍ | 219/258 [00:05<00:00, 44.93it/s]\u001b[A\n",
            " 87%|████████▋ | 224/258 [00:05<00:00, 43.03it/s]\u001b[A\n",
            " 89%|████████▉ | 229/258 [00:05<00:00, 43.72it/s]\u001b[A\n",
            " 91%|█████████ | 234/258 [00:05<00:00, 43.14it/s]\u001b[A\n",
            " 93%|█████████▎| 239/258 [00:05<00:00, 43.64it/s]\u001b[A\n",
            " 95%|█████████▍| 244/258 [00:05<00:00, 43.56it/s]\u001b[A\n",
            " 97%|█████████▋| 249/258 [00:05<00:00, 42.32it/s]\u001b[A\n",
            "100%|██████████| 258/258 [00:05<00:00, 43.32it/s]\n"
          ]
        },
        {
          "output_type": "stream",
          "name": "stdout",
          "text": [
            "Evaluation Results:\n",
            "HR@1: 0.0682, NDCG@1: 0.0682\n",
            "HR@5: 0.1240, NDCG@5: 0.0971\n",
            "HR@10: 0.1597, NDCG@10: 0.1086\n"
          ]
        },
        {
          "output_type": "stream",
          "name": "stderr",
          "text": [
            "Epoch 35/50:  89%|████████▉ | 230/258 [00:21<00:20,  1.38it/s]"
          ]
        },
        {
          "output_type": "stream",
          "name": "stdout",
          "text": [
            "New best model saved!\n"
          ]
        },
        {
          "output_type": "stream",
          "name": "stderr",
          "text": [
            "Epoch 35/50: 100%|██████████| 258/258 [00:23<00:00, 10.80it/s]\n"
          ]
        },
        {
          "output_type": "stream",
          "name": "stdout",
          "text": [
            "Epoch 35 completed in 23.91 seconds\n"
          ]
        },
        {
          "output_type": "stream",
          "name": "stderr",
          "text": [
            "Epoch 36/50: 100%|██████████| 258/258 [00:17<00:00, 14.66it/s]\n"
          ]
        },
        {
          "output_type": "stream",
          "name": "stdout",
          "text": [
            "Epoch 36 completed in 17.60 seconds\n"
          ]
        },
        {
          "output_type": "stream",
          "name": "stderr",
          "text": [
            "Epoch 37/50: 100%|██████████| 258/258 [00:17<00:00, 14.71it/s]\n"
          ]
        },
        {
          "output_type": "stream",
          "name": "stdout",
          "text": [
            "Epoch 37 completed in 17.55 seconds\n"
          ]
        },
        {
          "output_type": "stream",
          "name": "stderr",
          "text": [
            "Epoch 38/50: 100%|██████████| 258/258 [00:17<00:00, 14.65it/s]\n"
          ]
        },
        {
          "output_type": "stream",
          "name": "stdout",
          "text": [
            "Epoch 38 completed in 17.62 seconds\n"
          ]
        },
        {
          "output_type": "stream",
          "name": "stderr",
          "text": [
            "Epoch 39/50:  75%|███████▌  | 194/258 [00:13<00:04, 14.75it/s]"
          ]
        },
        {
          "output_type": "stream",
          "name": "stdout",
          "text": [
            "\n",
            "Step 10000, Average Loss: 1.1354\n"
          ]
        },
        {
          "output_type": "stream",
          "name": "stderr",
          "text": [
            "\n",
            "  0%|          | 0/258 [00:00<?, ?it/s]\u001b[A\n",
            "  2%|▏         | 5/258 [00:00<00:05, 46.94it/s]\u001b[A\n",
            "  4%|▍         | 10/258 [00:00<00:05, 43.74it/s]\u001b[A\n",
            "  6%|▌         | 15/258 [00:00<00:05, 44.82it/s]\u001b[A\n",
            "  8%|▊         | 20/258 [00:00<00:05, 44.57it/s]\u001b[A\n",
            " 10%|▉         | 25/258 [00:00<00:05, 44.95it/s]\u001b[A\n",
            " 12%|█▏        | 30/258 [00:00<00:05, 43.77it/s]\u001b[A\n",
            " 14%|█▎        | 35/258 [00:00<00:05, 42.95it/s]\u001b[A\n",
            " 16%|█▌        | 40/258 [00:00<00:04, 43.80it/s]\u001b[A\n",
            " 17%|█▋        | 45/258 [00:01<00:04, 43.70it/s]\u001b[A\n",
            " 19%|█▉        | 50/258 [00:01<00:04, 44.02it/s]\u001b[A\n",
            " 21%|██▏       | 55/258 [00:01<00:04, 43.46it/s]\u001b[A\n",
            " 23%|██▎       | 60/258 [00:01<00:04, 43.64it/s]\u001b[A\n",
            " 25%|██▌       | 65/258 [00:01<00:04, 44.13it/s]\u001b[A\n",
            " 27%|██▋       | 70/258 [00:01<00:04, 43.38it/s]\u001b[A\n",
            " 29%|██▉       | 75/258 [00:01<00:04, 41.65it/s]\u001b[A\n",
            " 31%|███       | 80/258 [00:01<00:04, 42.68it/s]\u001b[A\n",
            " 33%|███▎      | 85/258 [00:01<00:04, 42.80it/s]\u001b[A\n",
            " 35%|███▍      | 90/258 [00:02<00:03, 43.43it/s]\u001b[A\n",
            " 37%|███▋      | 95/258 [00:02<00:03, 43.45it/s]\u001b[A\n",
            " 39%|███▉      | 100/258 [00:02<00:03, 43.28it/s]\u001b[A\n",
            " 41%|████      | 105/258 [00:02<00:03, 44.02it/s]\u001b[A\n",
            " 43%|████▎     | 110/258 [00:02<00:03, 43.98it/s]\u001b[A\n",
            " 45%|████▍     | 115/258 [00:02<00:03, 44.07it/s]\u001b[A\n",
            " 47%|████▋     | 120/258 [00:02<00:03, 41.77it/s]\u001b[A\n",
            " 48%|████▊     | 125/258 [00:02<00:03, 42.56it/s]\u001b[A\n",
            " 50%|█████     | 130/258 [00:02<00:02, 43.23it/s]\u001b[A\n",
            " 52%|█████▏    | 135/258 [00:03<00:02, 43.54it/s]\u001b[A\n",
            " 54%|█████▍    | 140/258 [00:03<00:02, 43.66it/s]\u001b[A\n",
            " 56%|█████▌    | 145/258 [00:03<00:02, 43.07it/s]\u001b[A\n",
            " 58%|█████▊    | 150/258 [00:03<00:02, 43.64it/s]\u001b[A\n",
            " 60%|██████    | 155/258 [00:03<00:02, 43.71it/s]\u001b[A\n",
            " 62%|██████▏   | 160/258 [00:03<00:02, 42.39it/s]\u001b[A\n",
            " 64%|██████▍   | 165/258 [00:03<00:02, 41.65it/s]\u001b[A\n",
            " 66%|██████▌   | 170/258 [00:03<00:02, 42.54it/s]\u001b[A\n",
            " 68%|██████▊   | 175/258 [00:04<00:01, 42.83it/s]\u001b[A\n",
            " 70%|██████▉   | 180/258 [00:04<00:01, 42.85it/s]\u001b[A\n",
            " 72%|███████▏  | 185/258 [00:04<00:01, 42.71it/s]\u001b[A\n",
            " 74%|███████▎  | 190/258 [00:04<00:01, 41.77it/s]\u001b[A\n",
            " 76%|███████▌  | 195/258 [00:04<00:01, 42.15it/s]\u001b[A\n",
            " 78%|███████▊  | 200/258 [00:04<00:01, 42.43it/s]\u001b[A\n",
            " 79%|███████▉  | 205/258 [00:04<00:01, 40.77it/s]\u001b[A\n",
            " 81%|████████▏ | 210/258 [00:04<00:01, 41.65it/s]\u001b[A\n",
            " 83%|████████▎ | 215/258 [00:04<00:01, 41.98it/s]\u001b[A\n",
            " 85%|████████▌ | 220/258 [00:05<00:00, 42.36it/s]\u001b[A\n",
            " 87%|████████▋ | 225/258 [00:05<00:00, 42.87it/s]\u001b[A\n",
            " 89%|████████▉ | 230/258 [00:05<00:00, 42.67it/s]\u001b[A\n",
            " 91%|█████████ | 235/258 [00:05<00:00, 43.11it/s]\u001b[A\n",
            " 93%|█████████▎| 240/258 [00:05<00:00, 43.44it/s]\u001b[A\n",
            " 95%|█████████▍| 245/258 [00:05<00:00, 42.22it/s]\u001b[A\n",
            " 97%|█████████▋| 250/258 [00:05<00:00, 41.35it/s]\u001b[A\n",
            "100%|██████████| 258/258 [00:06<00:00, 42.95it/s]\n"
          ]
        },
        {
          "output_type": "stream",
          "name": "stdout",
          "text": [
            "Evaluation Results:\n",
            "HR@1: 0.0764, NDCG@1: 0.0764\n",
            "HR@5: 0.1333, NDCG@5: 0.1058\n",
            "HR@10: 0.1680, NDCG@10: 0.1170\n"
          ]
        },
        {
          "output_type": "stream",
          "name": "stderr",
          "text": [
            "Epoch 39/50:  77%|███████▋  | 198/258 [00:19<00:43,  1.38it/s]"
          ]
        },
        {
          "output_type": "stream",
          "name": "stdout",
          "text": [
            "New best model saved!\n"
          ]
        },
        {
          "output_type": "stream",
          "name": "stderr",
          "text": [
            "Epoch 39/50: 100%|██████████| 258/258 [00:23<00:00, 10.81it/s]\n"
          ]
        },
        {
          "output_type": "stream",
          "name": "stdout",
          "text": [
            "Epoch 39 completed in 23.88 seconds\n"
          ]
        },
        {
          "output_type": "stream",
          "name": "stderr",
          "text": [
            "Epoch 40/50: 100%|██████████| 258/258 [00:17<00:00, 14.70it/s]\n"
          ]
        },
        {
          "output_type": "stream",
          "name": "stdout",
          "text": [
            "Epoch 40 completed in 17.56 seconds\n"
          ]
        },
        {
          "output_type": "stream",
          "name": "stderr",
          "text": [
            "Epoch 41/50: 100%|██████████| 258/258 [00:17<00:00, 14.65it/s]\n"
          ]
        },
        {
          "output_type": "stream",
          "name": "stdout",
          "text": [
            "Epoch 41 completed in 17.61 seconds\n"
          ]
        },
        {
          "output_type": "stream",
          "name": "stderr",
          "text": [
            "Epoch 42/50: 100%|██████████| 258/258 [00:17<00:00, 14.68it/s]\n"
          ]
        },
        {
          "output_type": "stream",
          "name": "stdout",
          "text": [
            "Epoch 42 completed in 17.59 seconds\n"
          ]
        },
        {
          "output_type": "stream",
          "name": "stderr",
          "text": [
            "Epoch 43/50:  63%|██████▎   | 162/258 [00:11<00:06, 14.68it/s]"
          ]
        },
        {
          "output_type": "stream",
          "name": "stdout",
          "text": [
            "\n",
            "Step 11000, Average Loss: 0.8242\n"
          ]
        },
        {
          "output_type": "stream",
          "name": "stderr",
          "text": [
            "\n",
            "  0%|          | 0/258 [00:00<?, ?it/s]\u001b[A\n",
            "  2%|▏         | 5/258 [00:00<00:05, 46.56it/s]\u001b[A\n",
            "  4%|▍         | 10/258 [00:00<00:05, 43.19it/s]\u001b[A\n",
            "  6%|▌         | 15/258 [00:00<00:05, 42.66it/s]\u001b[A\n",
            "  8%|▊         | 20/258 [00:00<00:05, 41.91it/s]\u001b[A\n",
            " 10%|▉         | 25/258 [00:00<00:05, 41.62it/s]\u001b[A\n",
            " 12%|█▏        | 30/258 [00:00<00:05, 41.25it/s]\u001b[A\n",
            " 14%|█▎        | 35/258 [00:00<00:05, 41.57it/s]\u001b[A\n",
            " 16%|█▌        | 40/258 [00:00<00:05, 42.47it/s]\u001b[A\n",
            " 17%|█▋        | 45/258 [00:01<00:04, 43.06it/s]\u001b[A\n",
            " 19%|█▉        | 50/258 [00:01<00:04, 42.61it/s]\u001b[A\n",
            " 21%|██▏       | 55/258 [00:01<00:04, 41.64it/s]\u001b[A\n",
            " 23%|██▎       | 60/258 [00:01<00:04, 42.69it/s]\u001b[A\n",
            " 25%|██▌       | 65/258 [00:01<00:04, 43.33it/s]\u001b[A\n",
            " 27%|██▋       | 70/258 [00:01<00:04, 43.55it/s]\u001b[A\n",
            " 29%|██▉       | 75/258 [00:01<00:04, 44.14it/s]\u001b[A\n",
            " 31%|███       | 80/258 [00:01<00:04, 42.98it/s]\u001b[A\n",
            " 33%|███▎      | 85/258 [00:01<00:03, 43.41it/s]\u001b[A\n",
            " 35%|███▍      | 90/258 [00:02<00:03, 43.63it/s]\u001b[A\n",
            " 37%|███▋      | 95/258 [00:02<00:03, 42.03it/s]\u001b[A\n",
            " 39%|███▉      | 100/258 [00:02<00:03, 42.33it/s]\u001b[A\n",
            " 41%|████      | 105/258 [00:02<00:03, 42.66it/s]\u001b[A\n",
            " 43%|████▎     | 110/258 [00:02<00:03, 43.35it/s]\u001b[A\n",
            " 45%|████▍     | 115/258 [00:02<00:03, 42.45it/s]\u001b[A\n",
            " 47%|████▋     | 120/258 [00:02<00:03, 43.01it/s]\u001b[A\n",
            " 48%|████▊     | 125/258 [00:02<00:03, 42.13it/s]\u001b[A\n",
            " 50%|█████     | 130/258 [00:03<00:02, 42.94it/s]\u001b[A\n",
            " 52%|█████▏    | 135/258 [00:03<00:02, 42.10it/s]\u001b[A\n",
            " 54%|█████▍    | 140/258 [00:03<00:02, 40.61it/s]\u001b[A\n",
            " 56%|█████▌    | 145/258 [00:03<00:02, 41.78it/s]\u001b[A\n",
            " 58%|█████▊    | 150/258 [00:03<00:02, 42.68it/s]\u001b[A\n",
            " 60%|██████    | 155/258 [00:03<00:02, 42.92it/s]\u001b[A\n",
            " 62%|██████▏   | 160/258 [00:03<00:02, 43.52it/s]\u001b[A\n",
            " 64%|██████▍   | 165/258 [00:03<00:02, 43.92it/s]\u001b[A\n",
            " 66%|██████▌   | 170/258 [00:03<00:02, 43.35it/s]\u001b[A\n",
            " 68%|██████▊   | 175/258 [00:04<00:01, 43.65it/s]\u001b[A\n",
            " 70%|██████▉   | 180/258 [00:04<00:01, 42.04it/s]\u001b[A\n",
            " 72%|███████▏  | 185/258 [00:04<00:01, 42.35it/s]\u001b[A\n",
            " 74%|███████▎  | 190/258 [00:04<00:01, 43.40it/s]\u001b[A\n",
            " 76%|███████▌  | 195/258 [00:04<00:01, 43.81it/s]\u001b[A\n",
            " 78%|███████▊  | 200/258 [00:04<00:01, 43.82it/s]\u001b[A\n",
            " 79%|███████▉  | 205/258 [00:04<00:01, 44.13it/s]\u001b[A\n",
            " 81%|████████▏ | 210/258 [00:04<00:01, 44.01it/s]\u001b[A\n",
            " 83%|████████▎ | 215/258 [00:05<00:00, 43.01it/s]\u001b[A\n",
            " 85%|████████▌ | 220/258 [00:05<00:00, 43.79it/s]\u001b[A\n",
            " 87%|████████▋ | 225/258 [00:05<00:00, 41.82it/s]\u001b[A\n",
            " 89%|████████▉ | 230/258 [00:05<00:00, 42.65it/s]\u001b[A\n",
            " 91%|█████████ | 235/258 [00:05<00:00, 43.19it/s]\u001b[A\n",
            " 93%|█████████▎| 240/258 [00:05<00:00, 43.70it/s]\u001b[A\n",
            " 95%|█████████▍| 245/258 [00:05<00:00, 43.40it/s]\u001b[A\n",
            " 97%|█████████▋| 250/258 [00:05<00:00, 43.52it/s]\u001b[A\n",
            "100%|██████████| 258/258 [00:06<00:00, 42.96it/s]\n"
          ]
        },
        {
          "output_type": "stream",
          "name": "stdout",
          "text": [
            "Evaluation Results:\n",
            "HR@1: 0.0832, NDCG@1: 0.0832\n",
            "HR@5: 0.1395, NDCG@5: 0.1125\n",
            "HR@10: 0.1746, NDCG@10: 0.1238\n"
          ]
        },
        {
          "output_type": "stream",
          "name": "stderr",
          "text": [
            "Epoch 43/50:  64%|██████▍   | 166/258 [00:17<01:06,  1.37it/s]"
          ]
        },
        {
          "output_type": "stream",
          "name": "stdout",
          "text": [
            "New best model saved!\n"
          ]
        },
        {
          "output_type": "stream",
          "name": "stderr",
          "text": [
            "Epoch 43/50: 100%|██████████| 258/258 [00:23<00:00, 10.80it/s]\n"
          ]
        },
        {
          "output_type": "stream",
          "name": "stdout",
          "text": [
            "Epoch 43 completed in 23.90 seconds\n"
          ]
        },
        {
          "output_type": "stream",
          "name": "stderr",
          "text": [
            "Epoch 44/50: 100%|██████████| 258/258 [00:17<00:00, 14.68it/s]\n"
          ]
        },
        {
          "output_type": "stream",
          "name": "stdout",
          "text": [
            "Epoch 44 completed in 17.58 seconds\n"
          ]
        },
        {
          "output_type": "stream",
          "name": "stderr",
          "text": [
            "Epoch 45/50: 100%|██████████| 258/258 [00:17<00:00, 14.60it/s]\n"
          ]
        },
        {
          "output_type": "stream",
          "name": "stdout",
          "text": [
            "Epoch 45 completed in 17.69 seconds\n"
          ]
        },
        {
          "output_type": "stream",
          "name": "stderr",
          "text": [
            "Epoch 46/50: 100%|██████████| 258/258 [00:17<00:00, 14.66it/s]\n"
          ]
        },
        {
          "output_type": "stream",
          "name": "stdout",
          "text": [
            "Epoch 46 completed in 17.60 seconds\n"
          ]
        },
        {
          "output_type": "stream",
          "name": "stderr",
          "text": [
            "Epoch 47/50:  50%|█████     | 130/258 [00:08<00:08, 14.77it/s]"
          ]
        },
        {
          "output_type": "stream",
          "name": "stdout",
          "text": [
            "\n",
            "Step 12000, Average Loss: 0.5830\n"
          ]
        },
        {
          "output_type": "stream",
          "name": "stderr",
          "text": [
            "\n",
            "  0%|          | 0/258 [00:00<?, ?it/s]\u001b[A\n",
            "  2%|▏         | 5/258 [00:00<00:05, 46.41it/s]\u001b[A\n",
            "  4%|▍         | 10/258 [00:00<00:05, 45.98it/s]\u001b[A\n",
            "  6%|▌         | 15/258 [00:00<00:05, 45.64it/s]\u001b[A\n",
            "  8%|▊         | 20/258 [00:00<00:05, 43.67it/s]\u001b[A\n",
            " 10%|▉         | 25/258 [00:00<00:05, 41.42it/s]\u001b[A\n",
            " 12%|█▏        | 30/258 [00:00<00:05, 41.47it/s]\u001b[A\n",
            " 14%|█▎        | 35/258 [00:00<00:05, 41.55it/s]\u001b[A\n",
            " 16%|█▌        | 40/258 [00:00<00:05, 42.17it/s]\u001b[A\n",
            " 17%|█▋        | 45/258 [00:01<00:04, 43.07it/s]\u001b[A\n",
            " 19%|█▉        | 50/258 [00:01<00:04, 43.75it/s]\u001b[A\n",
            " 21%|██▏       | 55/258 [00:01<00:04, 42.99it/s]\u001b[A\n",
            " 23%|██▎       | 60/258 [00:01<00:04, 42.67it/s]\u001b[A\n",
            " 25%|██▌       | 65/258 [00:01<00:04, 42.90it/s]\u001b[A\n",
            " 27%|██▋       | 70/258 [00:01<00:04, 41.67it/s]\u001b[A\n",
            " 29%|██▉       | 75/258 [00:01<00:04, 42.78it/s]\u001b[A\n",
            " 31%|███       | 80/258 [00:01<00:04, 43.45it/s]\u001b[A\n",
            " 33%|███▎      | 85/258 [00:01<00:03, 43.85it/s]\u001b[A\n",
            " 35%|███▍      | 90/258 [00:02<00:03, 43.89it/s]\u001b[A\n",
            " 37%|███▋      | 95/258 [00:02<00:03, 44.02it/s]\u001b[A\n",
            " 39%|███▉      | 100/258 [00:02<00:03, 44.57it/s]\u001b[A\n",
            " 41%|████      | 105/258 [00:02<00:03, 43.57it/s]\u001b[A\n",
            " 43%|████▎     | 110/258 [00:02<00:03, 42.77it/s]\u001b[A\n",
            " 45%|████▍     | 115/258 [00:02<00:03, 41.82it/s]\u001b[A\n",
            " 47%|████▋     | 120/258 [00:02<00:03, 42.65it/s]\u001b[A\n",
            " 48%|████▊     | 125/258 [00:02<00:03, 43.28it/s]\u001b[A\n",
            " 50%|█████     | 130/258 [00:03<00:02, 43.90it/s]\u001b[A\n",
            " 52%|█████▏    | 135/258 [00:03<00:02, 43.73it/s]\u001b[A\n",
            " 54%|█████▍    | 140/258 [00:03<00:02, 44.27it/s]\u001b[A\n",
            " 56%|█████▌    | 145/258 [00:03<00:02, 43.92it/s]\u001b[A\n",
            " 58%|█████▊    | 150/258 [00:03<00:02, 42.69it/s]\u001b[A\n",
            " 60%|██████    | 155/258 [00:03<00:02, 40.83it/s]\u001b[A\n",
            " 62%|██████▏   | 160/258 [00:03<00:02, 41.26it/s]\u001b[A\n",
            " 64%|██████▍   | 165/258 [00:03<00:02, 41.58it/s]\u001b[A\n",
            " 66%|██████▌   | 170/258 [00:03<00:02, 42.02it/s]\u001b[A\n",
            " 68%|██████▊   | 175/258 [00:04<00:01, 42.59it/s]\u001b[A\n",
            " 70%|██████▉   | 180/258 [00:04<00:01, 43.07it/s]\u001b[A\n",
            " 72%|███████▏  | 185/258 [00:04<00:01, 43.33it/s]\u001b[A\n",
            " 74%|███████▎  | 190/258 [00:04<00:01, 43.74it/s]\u001b[A\n",
            " 76%|███████▌  | 195/258 [00:04<00:01, 41.95it/s]\u001b[A\n",
            " 78%|███████▊  | 200/258 [00:04<00:01, 41.59it/s]\u001b[A\n",
            " 79%|███████▉  | 205/258 [00:04<00:01, 42.88it/s]\u001b[A\n",
            " 81%|████████▏ | 210/258 [00:04<00:01, 43.77it/s]\u001b[A\n",
            " 83%|████████▎ | 215/258 [00:05<00:00, 43.76it/s]\u001b[A\n",
            " 85%|████████▌ | 220/258 [00:05<00:00, 44.16it/s]\u001b[A\n",
            " 87%|████████▋ | 225/258 [00:05<00:00, 43.65it/s]\u001b[A\n",
            " 89%|████████▉ | 230/258 [00:05<00:00, 44.12it/s]\u001b[A\n",
            " 91%|█████████ | 235/258 [00:05<00:00, 42.66it/s]\u001b[A\n",
            " 93%|█████████▎| 240/258 [00:05<00:00, 36.59it/s]\u001b[A\n",
            " 95%|█████████▍| 244/258 [00:05<00:00, 35.79it/s]\u001b[A\n",
            " 96%|█████████▌| 248/258 [00:05<00:00, 35.77it/s]\u001b[A\n",
            " 98%|█████████▊| 252/258 [00:05<00:00, 35.60it/s]\u001b[A\n",
            "100%|██████████| 258/258 [00:06<00:00, 41.96it/s]\n"
          ]
        },
        {
          "output_type": "stream",
          "name": "stdout",
          "text": [
            "Evaluation Results:\n",
            "HR@1: 0.0893, NDCG@1: 0.0893\n",
            "HR@5: 0.1464, NDCG@5: 0.1189\n",
            "HR@10: 0.1784, NDCG@10: 0.1292\n"
          ]
        },
        {
          "output_type": "stream",
          "name": "stderr",
          "text": [
            "Epoch 47/50:  52%|█████▏    | 134/258 [00:15<01:33,  1.33it/s]"
          ]
        },
        {
          "output_type": "stream",
          "name": "stdout",
          "text": [
            "New best model saved!\n"
          ]
        },
        {
          "output_type": "stream",
          "name": "stderr",
          "text": [
            "Epoch 47/50: 100%|██████████| 258/258 [00:24<00:00, 10.66it/s]\n"
          ]
        },
        {
          "output_type": "stream",
          "name": "stdout",
          "text": [
            "Epoch 47 completed in 24.20 seconds\n"
          ]
        },
        {
          "output_type": "stream",
          "name": "stderr",
          "text": [
            "Epoch 48/50: 100%|██████████| 258/258 [00:17<00:00, 14.61it/s]\n"
          ]
        },
        {
          "output_type": "stream",
          "name": "stdout",
          "text": [
            "Epoch 48 completed in 17.67 seconds\n"
          ]
        },
        {
          "output_type": "stream",
          "name": "stderr",
          "text": [
            "Epoch 49/50: 100%|██████████| 258/258 [00:17<00:00, 14.66it/s]\n"
          ]
        },
        {
          "output_type": "stream",
          "name": "stdout",
          "text": [
            "Epoch 49 completed in 17.61 seconds\n"
          ]
        },
        {
          "output_type": "stream",
          "name": "stderr",
          "text": [
            "Epoch 50/50: 100%|██████████| 258/258 [00:17<00:00, 14.66it/s]\n",
            "/content/bert4rec_on_taobao/src/train.py:109: FutureWarning: You are using `torch.load` with `weights_only=False` (the current default value), which uses the default pickle module implicitly. It is possible to construct malicious pickle data which will execute arbitrary code during unpickling (See https://github.com/pytorch/pytorch/blob/main/SECURITY.md#untrusted-models for more details). In a future release, the default value for `weights_only` will be flipped to `True`. This limits the functions that could be executed during unpickling. Arbitrary objects will no longer be allowed to be loaded via this mode unless they are explicitly allowlisted by the user via `torch.serialization.add_safe_globals`. We recommend you start setting `weights_only=True` for any use case where you don't have full control of the loaded file. Please open an issue on GitHub for any issues related to this experimental feature.\n",
            "  model.load_state_dict(torch.load('best_model.pth'))\n"
          ]
        },
        {
          "output_type": "stream",
          "name": "stdout",
          "text": [
            "Epoch 50 completed in 17.61 seconds\n",
            "Training completed. Best HR@1: 0.0893 at epoch 47\n",
            "Loaded the best model.\n"
          ]
        },
        {
          "output_type": "execute_result",
          "data": {
            "text/plain": [
              "BERT4Rec(\n",
              "  (item_emb): Embedding(154973, 64, padding_idx=0)\n",
              "  (pos_emb): Embedding(20, 64)\n",
              "  (transformer_encoder): TransformerEncoder(\n",
              "    (layers): ModuleList(\n",
              "      (0-1): 2 x TransformerEncoderLayer(\n",
              "        (self_attn): MultiheadAttention(\n",
              "          (out_proj): NonDynamicallyQuantizableLinear(in_features=64, out_features=64, bias=True)\n",
              "        )\n",
              "        (linear1): Linear(in_features=64, out_features=256, bias=True)\n",
              "        (dropout): Dropout(p=0.1, inplace=False)\n",
              "        (linear2): Linear(in_features=256, out_features=64, bias=True)\n",
              "        (norm1): LayerNorm((64,), eps=1e-05, elementwise_affine=True)\n",
              "        (norm2): LayerNorm((64,), eps=1e-05, elementwise_affine=True)\n",
              "        (dropout1): Dropout(p=0.1, inplace=False)\n",
              "        (dropout2): Dropout(p=0.1, inplace=False)\n",
              "      )\n",
              "    )\n",
              "  )\n",
              "  (out): Linear(in_features=64, out_features=154972, bias=True)\n",
              ")"
            ]
          },
          "metadata": {},
          "execution_count": 10
        }
      ],
      "source": [
        "device=get_device()\n",
        "print(f'You are on {device}')\n",
        "train(model,train_dataset,val_dataset,device,config)"
      ]
    },
    {
      "cell_type": "markdown",
      "metadata": {
        "id": "vNPU_UroWdHm"
      },
      "source": [
        "## Evaulation on Unseen data (testset)"
      ]
    },
    {
      "cell_type": "code",
      "execution_count": 11,
      "metadata": {
        "colab": {
          "base_uri": "https://localhost:8080/"
        },
        "id": "GWxNe8CIWS6S",
        "outputId": "51587d78-086f-4c54-dae0-3c9e78b82b86"
      },
      "outputs": [
        {
          "output_type": "stream",
          "name": "stderr",
          "text": [
            "100%|██████████| 129/129 [00:05<00:00, 24.10it/s]"
          ]
        },
        {
          "output_type": "stream",
          "name": "stdout",
          "text": [
            "HR@1: 0.0712, NDCG@1: 0.0712\n",
            "HR@5: 0.1242, NDCG@5: 0.0987\n",
            "HR@10: 0.1568, NDCG@10: 0.1092\n"
          ]
        },
        {
          "output_type": "stream",
          "name": "stderr",
          "text": [
            "\n"
          ]
        }
      ],
      "source": [
        "model.eval()\n",
        "hrs, ndcgs = calculate_metrics_batch(model, test_dataset,device=device,k_values=[1, 5, 10])\n",
        "\n",
        "for k in hrs.keys():\n",
        "    print(f\"HR@{k}: {hrs[k]:.4f}, NDCG@{k}: {ndcgs[k]:.4f}\")"
      ]
    },
    {
      "cell_type": "code",
      "execution_count": null,
      "metadata": {
        "id": "7XRgWwNzs4OE"
      },
      "outputs": [],
      "source": []
    }
  ],
  "metadata": {
    "accelerator": "GPU",
    "colab": {
      "gpuType": "T4",
      "provenance": [],
      "authorship_tag": "ABX9TyMaEQJhZbhDdRbrkJ5aYThN",
      "include_colab_link": true
    },
    "kernelspec": {
      "display_name": "Python 3",
      "name": "python3"
    },
    "language_info": {
      "name": "python"
    }
  },
  "nbformat": 4,
  "nbformat_minor": 0
}